{
  "cells": [
    {
      "cell_type": "markdown",
      "metadata": {
        "colab_type": "text",
        "id": "view-in-github"
      },
      "source": [
        "<a href=\"https://colab.research.google.com/github/geraw/ProvengoDemo/blob/main/ProvegoTutorial.ipynb\" target=\"_parent\"><img src=\"https://colab.research.google.com/assets/colab-badge.svg\" alt=\"Open In Colab\"/></a>"
      ]
    },
    {
      "cell_type": "markdown",
      "metadata": {
        "id": "T1xDaG9DihN3"
      },
      "source": [
        "# Installation"
      ]
    },
    {
      "cell_type": "code",
      "execution_count": 1,
      "metadata": {
        "colab": {
          "base_uri": "https://localhost:8080/"
        },
        "id": "S-IoNKf8iMtv",
        "outputId": "571cab72-3eb3-4171-c79e-e1ccca482c20"
      },
      "outputs": [
        {
          "name": "stderr",
          "output_type": "stream",
          "text": [
            "'wget' is not recognized as an internal or external command,\n",
            "operable program or batch file.\n"
          ]
        },
        {
          "name": "stderr",
          "output_type": "stream",
          "text": [
            "'apt-get' is not recognized as an internal or external command,\n",
            "operable program or batch file.\n"
          ]
        }
      ],
      "source": [
        "!wget -nc https://downloads.provengo.tech/unix-dist/deb/Provengo-deb.deb\n",
        "!apt-get install ./Provengo-deb.deb"
      ]
    },
    {
      "cell_type": "code",
      "execution_count": null,
      "metadata": {},
      "outputs": [],
      "source": [
        "%pip install flask"
      ]
    },
    {
      "cell_type": "markdown",
      "metadata": {
        "id": "VpT8L567hVaI"
      },
      "source": [
        "# System Under Test"
      ]
    },
    {
      "cell_type": "code",
      "execution_count": 5,
      "metadata": {
        "colab": {
          "base_uri": "https://localhost:8080/"
        },
        "id": "1kPlL3NDQaF-",
        "outputId": "8ad810e6-f1ae-4734-f401-6b750613366d"
      },
      "outputs": [
        {
          "name": "stdout",
          "output_type": "stream",
          "text": [
            "host='192.168.56.1'\n"
          ]
        }
      ],
      "source": [
        "import socket\n",
        "import random\n",
        "\n",
        "host = socket.gethostbyname(socket.gethostname())\n",
        "print(f\"{host=}\")"
      ]
    },
    {
      "cell_type": "code",
      "execution_count": null,
      "metadata": {
        "colab": {
          "base_uri": "https://localhost:8080/"
        },
        "id": "AlsMhPMchZAw",
        "outputId": "42746c5a-e984-4bc7-9283-a028caa6cf25"
      },
      "outputs": [
        {
          "name": "stdout",
          "output_type": "stream",
          "text": [
            " * Serving Flask app '__main__'\n"
          ]
        },
        {
          "name": "stdout",
          "output_type": "stream",
          "text": [
            " * Debug mode: off\n"
          ]
        },
        {
          "name": "stderr",
          "output_type": "stream",
          "text": [
            "WARNING: This is a development server. Do not use it in a production deployment. Use a production WSGI server instead.\n",
            " * Running on http://192.168.56.1:58890\n",
            "Press CTRL+C to quit\n",
            "192.168.56.1 - - [14/Mar/2025 18:04:57] \"POST /users HTTP/1.1\" 201 -\n",
            "192.168.56.1 - - [14/Mar/2025 18:10:25] \"GET /users HTTP/1.1\" 200 -\n",
            "192.168.56.1 - - [14/Mar/2025 18:10:25] \"POST /users HTTP/1.1\" 201 -\n",
            "192.168.56.1 - - [14/Mar/2025 18:10:25] \"GET /users HTTP/1.1\" 200 -\n"
          ]
        }
      ],
      "source": [
        "from flask import Flask, request, jsonify\n",
        "import threading\n",
        "import time\n",
        "import os\n",
        "import sys\n",
        "import json\n",
        "import importlib\n",
        "import signal\n",
        "\n",
        "port = random.randint(1024, 65535)\n",
        "url = f\"http://{host}:{port}\"\n",
        "\n",
        "# Create Flask app\n",
        "app = Flask(__name__)\n",
        "#run_with_ngrok(app)  # Allows access from outside\n",
        "\n",
        "# In-memory data store (replace with a database in a real application)\n",
        "users = []\n",
        "loans = []\n",
        "holds = []\n",
        "books = {}\n",
        "\n",
        "# --- User Routes ---\n",
        "@app.route('/users', methods=['POST'])\n",
        "def add_user():\n",
        "    user = request.get_json()\n",
        "\n",
        "    if 'id' not in user:\n",
        "        return jsonify({'error': 'user id is required'}), 400\n",
        "    if  user.get('id') in [u.get('id') for u in users]:\n",
        "        return jsonify({'error': 'User already exists'}), 400\n",
        "    else:\n",
        "      users.append(user)\n",
        "      return jsonify({'message': 'User Added', 'user': user}), 201\n",
        "\n",
        "@app.route('/users/<int:user_id>', methods=['DELETE'])\n",
        "def delete_user(user_id):\n",
        "    global users\n",
        "    users = [user for user in users if user.get('id') != user_id]\n",
        "    return jsonify({'message': 'User deleted'}), 200\n",
        "\n",
        "@app.route('/users', methods=['GET'])\n",
        "def search_users():\n",
        "    query = request.args.get('q', '').lower()\n",
        "    results = [user for user in users if query in str(user).lower()] if query else users\n",
        "    return jsonify(results)\n",
        "\n",
        "# --- Loan Routes ---\n",
        "@app.route('/loans', methods=['POST'])\n",
        "def add_loan():\n",
        "    loan = request.get_json()\n",
        "    loans.append(loan)\n",
        "    return jsonify({'message': 'Loan added', 'loan': loan}), 201\n",
        "\n",
        "@app.route('/loans/<int:loan_id>', methods=['DELETE'])\n",
        "def delete_loan(loan_id):\n",
        "    global loans\n",
        "    loans = [loan for loan in loans if loan.get('id') != loan_id]\n",
        "    return jsonify({'message': 'Loan deleted'}), 200\n",
        "\n",
        "@app.route('/loans', methods=['GET'])\n",
        "def search_loans():\n",
        "    query = request.args.get('q', '').lower()\n",
        "    results = [loan for loan in loans if query in str(loan).lower()] if query else loans\n",
        "    return jsonify(results)\n",
        "\n",
        "# --- Hold Routes ---\n",
        "@app.route('/holds', methods=['POST'])\n",
        "def add_hold():\n",
        "    hold = request.get_json()\n",
        "    holds.append(hold)\n",
        "    return jsonify({'message': 'Hold added', 'hold': hold}), 201\n",
        "\n",
        "@app.route('/holds/<int:hold_id>', methods=['DELETE'])\n",
        "def delete_hold(hold_id):\n",
        "    global holds\n",
        "    holds = [hold for hold in holds if hold.get('id') != hold_id]\n",
        "    return jsonify({'message': 'Hold deleted'}), 200\n",
        "\n",
        "@app.route('/holds', methods=['GET'])\n",
        "def search_holds():\n",
        "    query = request.args.get('q', '').lower()\n",
        "    results = [hold for hold in holds if query in str(hold).lower()] if query else holds\n",
        "    return jsonify(results)\n",
        "\n",
        "# --- Book Routes ---\n",
        "@app.route('/books', methods=['GET', 'POST'])\n",
        "def manage_books():\n",
        "    if request.method == 'GET':\n",
        "        return jsonify(books)\n",
        "    elif request.method == 'POST':\n",
        "        book_data = request.get_json()\n",
        "        book_id = book_data.get('id')\n",
        "        if book_id:\n",
        "            books[book_id] = book_data\n",
        "            return jsonify({'message': 'Book added'}), 201\n",
        "        return jsonify({'error': 'Invalid book data'}), 400\n",
        "\n",
        "\n",
        "threading.Thread(target=app.run, kwargs={'host':host,'port':port}).start()\n"
      ]
    },
    {
      "cell_type": "code",
      "execution_count": 7,
      "metadata": {
        "colab": {
          "base_uri": "https://localhost:8080/"
        },
        "id": "8LaFfGtXjzkK",
        "outputId": "73c7d947-cbc1-4050-a9f6-683d5352a181"
      },
      "outputs": [
        {
          "name": "stdout",
          "output_type": "stream",
          "text": [
            "Successfully accessed the server!\n",
            "Response: {'message': 'User Added', 'user': {'id': 225, 'name': 'Dror'}}\n"
          ]
        }
      ],
      "source": [
        "import requests\n",
        "\n",
        "try:\n",
        "    response = requests.post(url+\"/users\", json = {\"id\": 225, \"name\": \"Dror\"})\n",
        "    response.raise_for_status()  # Raise an exception for bad status codes (4xx or 5xx)\n",
        "    print(\"Successfully accessed the server!\")\n",
        "    print(\"Response:\", response.json())\n",
        "except requests.exceptions.RequestException as e:\n",
        "    print(f\"Error accessing the server: {e}\")\n"
      ]
    },
    {
      "cell_type": "markdown",
      "metadata": {
        "id": "MeJqk5zMjm45"
      },
      "source": [
        "# Test model"
      ]
    },
    {
      "cell_type": "code",
      "execution_count": null,
      "metadata": {
        "colab": {
          "base_uri": "https://localhost:8080/"
        },
        "id": "KCgXSJEMIOc9",
        "outputId": "5351653e-4f52-47b0-cb63-8f9c88552ce3"
      },
      "outputs": [
        {
          "name": "stdout",
          "output_type": "stream",
          "text": [
            "        / /\n",
            "     /\\/ /   ____\n",
            "  /\\/ /\\/ / |  _ \\ _ __  _____   __ ___  _ __   __ _  ___\n",
            " /  \\/\\/\\/  | |_) | '__|/ _ \\ \\ / // _ \\| '_ \\ / _` |/ _ \\\n",
            " \\  /\\/\\/\\  |  __/| |  | (_) \\ V /|  __/| | | | (_| | (_) |\n",
            "  \\/\\ \\/\\ \\ |_|   |_|   \\___/ \\_/  \\___||_| |_|\\__, |\\___/\n",
            "     \\/\\ \\                                     |___/\n",
            "        \\ \\\n",
            "\n",
            "[SETUP] INFO We'd love to hear from you! visit https://provengo.tech/feedback/\n",
            "[SETUP] ERR c:\\temp\\ProvengoDemo\\BookStoreDemo Folder already exist. delete the existing folder or create new project with new name.\n",
            "[Main ] ERR Terminating because of previous errors. See logs.\n",
            "[Main ] ERR 40 BadRequest\n"
          ]
        },
        {
          "name": "stderr",
          "output_type": "stream",
          "text": [
            "UsageError: Line magic function `%rm` not found.\n"
          ]
        }
      ],
      "source": [
        "!provengo --batch-mode create BookStoreDemo"
      ]
    },
    {
      "cell_type": "code",
      "execution_count": 13,
      "metadata": {
        "id": "C3W6SvauA0K0"
      },
      "outputs": [],
      "source": [
        "import os\n",
        "\n",
        "with open(\"BookStoreDemo/spec/js/_constants.js\", \"w\") as f:\n",
        "  f.write(f\"\"\"\n",
        "const {host=};\n",
        "const {port=};\n",
        "\"\"\")"
      ]
    },
    {
      "cell_type": "code",
      "execution_count": null,
      "metadata": {
        "colab": {
          "base_uri": "https://localhost:8080/"
        },
        "id": "WBSyW0OKjwig",
        "outputId": "cbccbb7e-569f-4635-c4e2-53a17fb5cc30"
      },
      "outputs": [
        {
          "name": "stdout",
          "output_type": "stream",
          "text": [
            "Writing BookStoreDemo/spec/js/model.js\n"
          ]
        }
      ],
      "source": [
        "%%writefile BookStoreDemo/spec/js/hello-world.js\n",
        "\n",
        "const svc = new RESTSession(\"http://\"+host+\":\"+port, \"provengo basedclient\", {\n",
        "    headers: {\"Content-Type\":\"application/json\"}\n",
        "});\n",
        "\n",
        "\n",
        "function validation_func(response){\n",
        "  const respObj = JSON.parse(response.body);\n",
        "  if ( respObj.message != \"User Added\" ) {\n",
        "      pvg.fail(\"user creation failed: \" + respObj.message);\n",
        "  } else {\n",
        "      pvg.log.info(`response is: ${JSON.stringify(respObj)}`);\n",
        "  }\n",
        "}\n",
        "\n",
        "\n",
        "bthread(\"API User\", function(){\n",
        "    svc.get(\"/users\", {\n",
        "      callback: function(response){\n",
        "        const respObj = JSON.parse(response.body);\n",
        "        pvg.log.info(`response is: ${JSON.stringify(respObj)}`);\n",
        "      }\n",
        "    })\n",
        "\n",
        "    svc.post(\"/users\", {\n",
        "        body: JSON.stringify({\n",
        "            id: 111,\n",
        "            name: \"John Doe\",\n",
        "        }),\n",
        "        callback: validation_func\n",
        "    });\n",
        "\n",
        "    svc.get(\"/users\")\n",
        "});"
      ]
    },
    {
      "cell_type": "code",
      "execution_count": 15,
      "metadata": {
        "colab": {
          "base_uri": "https://localhost:8080/"
        },
        "id": "4uXI_u4XIKPV",
        "outputId": "56fdaa19-54b5-4a1c-922e-b04b125ed6a8"
      },
      "outputs": [
        {
          "name": "stdout",
          "output_type": "stream",
          "text": [
            "        / /\n",
            "     /\\/ /   ____\n",
            "  /\\/ /\\/ / |  _ \\ _ __  _____   __ ___  _ __   __ _  ___\n",
            " /  \\/\\/\\/  | |_) | '__|/ _ \\ \\ / // _ \\| '_ \\ / _` |/ _ \\\n",
            " \\  /\\/\\/\\  |  __/| |  | (_) \\ V /|  __/| | | | (_| | (_) |\n",
            "  \\/\\ \\/\\ \\ |_|   |_|   \\___/ \\_/  \\___||_| |_|\\__, |\\___/\n",
            "     \\/\\ \\                                     |___/\n",
            "        \\ \\\n",
            "\n",
            "[SETUP] INFO We'd love to hear from you! visit https://provengo.tech/feedback/\n",
            "[SETUP] INFO Input path: c:\\temp\\ProvengoDemo\\BookStoreDemo\n",
            "[RUN  ] INFO Preparing to run the model\n",
            "[RUN>BUILD] INFO model.js: Library 'REST' summoned automatically. Add \"//@provengo summon rest\" to the top of the file to explicitly summon it. Set the auto-summon configuration key to false to disable this behavior\n",
            "[RUN>random] INFO B-program started\n",
            "[RUN>random] INFO Selected: [GET {JS_Obj lib:\"REST\", method:\"GET\", url:\"http://192.168.56.1:58890/users\", headers:{JS_Obj Content-Type:\"application/json\"}, parameters:{JS_Obj }, expectedResponseCodes:[JS_Array ], callback:{JS_Obj }}]\n",
            "[RUN>random] INFO response is: [{\"id\":225,\"name\":\"Dror\"}]\n",
            "[RUN>random] INFO Selected: [POST {JS_Obj lib:\"REST\", method:\"POST\", url:\"http://192.168.56.1:58890/users\", headers:{JS_Obj Content-Type:\"application/json\"}, parameters:{JS_Obj }, expectedResponseCodes:[JS_Array ], callback:{JS_Obj }, body:\"{\"id\":111,\"name\":\"John Doe\"}\"}]\n",
            "[RUN>random] INFO response is: {\"message\":\"User Added\",\"user\":{\"id\":111,\"name\":\"John Doe\"}}\n",
            "[RUN>random] INFO Selected: [GET {JS_Obj lib:\"REST\", method:\"GET\", url:\"http://192.168.56.1:58890/users\", headers:{JS_Obj Content-Type:\"application/json\"}, parameters:{JS_Obj }, expectedResponseCodes:[JS_Array ], callback:{JS_Obj }}]\n",
            "[RUN  ] INFO Test Result: SUCCESS\n"
          ]
        }
      ],
      "source": [
        "!provengo run BookStoreDemo"
      ]
    }
  ],
  "metadata": {
    "colab": {
      "collapsed_sections": [
        "T1xDaG9DihN3",
        "0I5Qp2RBLz1C"
      ],
      "include_colab_link": true,
      "provenance": []
    },
    "kernelspec": {
      "display_name": "Python 3",
      "name": "python3"
    },
    "language_info": {
      "codemirror_mode": {
        "name": "ipython",
        "version": 3
      },
      "file_extension": ".py",
      "mimetype": "text/x-python",
      "name": "python",
      "nbconvert_exporter": "python",
      "pygments_lexer": "ipython3",
      "version": "3.11.0"
    }
  },
  "nbformat": 4,
  "nbformat_minor": 0
}
