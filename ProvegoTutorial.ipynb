{
  "cells": [
    {
      "cell_type": "markdown",
      "metadata": {
        "colab_type": "text",
        "id": "view-in-github"
      },
      "source": [
        "<a href=\"https://colab.research.google.com/github/geraw/ProvengoDemo/blob/main/ProvegoTutorial.ipynb\" target=\"_parent\"><img src=\"https://colab.research.google.com/assets/colab-badge.svg\" alt=\"Open In Colab\"/></a>"
      ]
    },
    {
      "cell_type": "markdown",
      "metadata": {
        "id": "T1xDaG9DihN3"
      },
      "source": [
        "# Installation"
      ]
    },
    {
      "cell_type": "code",
      "execution_count": 46,
      "metadata": {
        "colab": {
          "base_uri": "https://localhost:8080/"
        },
        "id": "S-IoNKf8iMtv",
        "outputId": "571cab72-3eb3-4171-c79e-e1ccca482c20"
      },
      "outputs": [
        {
          "name": "stdout",
          "output_type": "stream",
          "text": [
            "If your OS is not Linux, please download and run the installer from https://provengo.tech/download\n"
          ]
        }
      ],
      "source": [
        "import platform\n",
        "\n",
        "if platform.system() == \"Linux\":\n",
        "    !wget -nc https://downloads.provengo.tech/unix-dist/deb/Provengo-deb.deb\n",
        "    !apt-get install ./Provengo-deb.deb\n",
        "else:\n",
        "    print(\"If your OS is not Linux, please download and run the installer from https://provengo.tech/download\")    "
      ]
    },
    {
      "cell_type": "code",
      "execution_count": 47,
      "metadata": {},
      "outputs": [
        {
          "name": "stdout",
          "output_type": "stream",
          "text": [
            "Defaulting to user installation because normal site-packages is not writeable\n",
            "Looking in indexes: https://pypi.org/simple, https://pypi.ngc.nvidia.com\n",
            "Requirement already satisfied: flask in c:\\users\\gera\\appdata\\roaming\\python\\python311\\site-packages (3.1.0)\n",
            "Requirement already satisfied: Werkzeug>=3.1 in c:\\users\\gera\\appdata\\roaming\\python\\python311\\site-packages (from flask) (3.1.3)\n",
            "Requirement already satisfied: Jinja2>=3.1.2 in c:\\users\\gera\\appdata\\roaming\\python\\python311\\site-packages (from flask) (3.1.4)\n",
            "Requirement already satisfied: itsdangerous>=2.2 in c:\\users\\gera\\appdata\\roaming\\python\\python311\\site-packages (from flask) (2.2.0)\n",
            "Requirement already satisfied: click>=8.1.3 in c:\\users\\gera\\appdata\\roaming\\python\\python311\\site-packages (from flask) (8.1.8)\n",
            "Requirement already satisfied: blinker>=1.9 in c:\\users\\gera\\appdata\\roaming\\python\\python311\\site-packages (from flask) (1.9.0)\n",
            "Requirement already satisfied: colorama in c:\\users\\gera\\appdata\\roaming\\python\\python311\\site-packages (from click>=8.1.3->flask) (0.4.6)\n",
            "Requirement already satisfied: MarkupSafe>=2.0 in c:\\users\\gera\\appdata\\roaming\\python\\python311\\site-packages (from Jinja2>=3.1.2->flask) (3.0.1)\n",
            "Note: you may need to restart the kernel to use updated packages.\n"
          ]
        }
      ],
      "source": [
        "%pip install flask"
      ]
    },
    {
      "cell_type": "markdown",
      "metadata": {
        "id": "VpT8L567hVaI"
      },
      "source": [
        "# System Under Test"
      ]
    },
    {
      "cell_type": "markdown",
      "metadata": {},
      "source": [
        "## Setting up Flask app"
      ]
    },
    {
      "cell_type": "code",
      "execution_count": 48,
      "metadata": {
        "colab": {
          "base_uri": "https://localhost:8080/"
        },
        "id": "AlsMhPMchZAw",
        "outputId": "42746c5a-e984-4bc7-9283-a028caa6cf25"
      },
      "outputs": [],
      "source": [
        "from flask import Flask, request, jsonify\n",
        "import threading\n",
        "import time\n",
        "import os\n",
        "import sys\n",
        "import json\n",
        "import importlib\n",
        "import signal\n",
        "\n",
        "\n",
        "# Create Flask app\n",
        "app = Flask(__name__)\n",
        "#run_with_ngrok(app)  # Allows access from outside\n",
        "\n",
        "# In-memory data store (replace with a database in a real application)\n",
        "users = []\n",
        "loans = []\n",
        "holds = []\n",
        "books = {}\n"
      ]
    },
    {
      "cell_type": "markdown",
      "metadata": {},
      "source": [
        "## A route for resetting the database"
      ]
    },
    {
      "cell_type": "code",
      "execution_count": 49,
      "metadata": {},
      "outputs": [],
      "source": [
        "# A rute for testing that resets the database and loads initial data\n",
        "@app.route('/reset', methods=['POST'])\n",
        "def reset_database():\n",
        "    global users, loans, holds, books\n",
        "    \n",
        "    # Clear all data\n",
        "    users = []\n",
        "    loans = []\n",
        "    holds = []\n",
        "    books = {}\n",
        "    \n",
        "    # If initial data is provided, load it\n",
        "    if request.is_json:\n",
        "        data = request.get_json()\n",
        "        if 'users' in data:\n",
        "            users.extend(data['users'])\n",
        "        if 'loans' in data:\n",
        "            loans.extend(data['loans'])\n",
        "        if 'holds' in data:\n",
        "            holds.extend(data['holds'])\n",
        "        if 'books' in data:\n",
        "            books.update(data['books'])\n",
        "    \n",
        "    return jsonify({\n",
        "        'message': 'Database reset',\n",
        "        'status': {\n",
        "            'users': len(users),\n",
        "            'loans': len(loans),\n",
        "            'holds': len(holds),\n",
        "            'books': len(books)\n",
        "        }\n",
        "    }), 200\n",
        "\n",
        "\n"
      ]
    },
    {
      "cell_type": "markdown",
      "metadata": {},
      "source": [
        "## User routes"
      ]
    },
    {
      "cell_type": "code",
      "execution_count": 50,
      "metadata": {},
      "outputs": [],
      "source": [
        "# --- User Routes ---\n",
        "@app.route('/users', methods=['POST'])\n",
        "def add_user():\n",
        "    user = request.get_json()\n",
        "\n",
        "    if 'id' not in user:\n",
        "        print(\"Error: Attempt to add user without id\")\n",
        "        return jsonify({'error': 'user id is required'}), 400\n",
        "    if  user.get('id') in [u.get('id') for u in users]:\n",
        "        print(\"Error: Attempt to add duplicate user\")\n",
        "        return jsonify({'error': 'User already exists'}), 400\n",
        "    else:\n",
        "      users.append(user)\n",
        "      return jsonify({'message': 'User Added', 'user': user}), 201\n",
        "\n",
        "@app.route('/users/<int:user_id>', methods=['DELETE'])\n",
        "def delete_user(user_id):\n",
        "    global users\n",
        "    users = [user for user in users if user.get('id') != user_id]\n",
        "    return jsonify({'message': 'User deleted'}), 200\n",
        "\n",
        "@app.route('/users', methods=['GET'])\n",
        "def search_users():\n",
        "    query = request.args.get('q', '').lower()\n",
        "    results = [user for user in users if query in str(user).lower()] if query else users\n",
        "    return jsonify(results)\n",
        "\n"
      ]
    },
    {
      "cell_type": "markdown",
      "metadata": {},
      "source": [
        "## Loan routes"
      ]
    },
    {
      "cell_type": "code",
      "execution_count": 51,
      "metadata": {},
      "outputs": [],
      "source": [
        "# --- Loan Routes ---\n",
        "@app.route('/loans', methods=['POST'])\n",
        "def add_loan():\n",
        "    loan = request.get_json()\n",
        "    user_id = loan.get('userId')\n",
        "    book_id = loan.get('bookId')\n",
        "\n",
        "    # Check that user exists\n",
        "    if user_id is None or not any(u.get('id') == user_id for u in users):\n",
        "        return jsonify({'error': 'User does not exist'}), 400\n",
        "\n",
        "    # Check that book exists\n",
        "    if book_id is None or str(book_id) not in books:\n",
        "        return jsonify({'error': 'Book does not exist'}), 400\n",
        "\n",
        "    loans.append(loan)\n",
        "    return jsonify({'message': 'Loan added', 'loan': loan}), 201\n",
        "\n",
        "@app.route('/loans/<int:loan_id>', methods=['DELETE'])\n",
        "def delete_loan(loan_id):\n",
        "    global loans\n",
        "    loans = [loan for loan in loans if loan.get('id') != loan_id]\n",
        "    return jsonify({'message': 'Loan deleted'}), 200\n",
        "\n",
        "@app.route('/loans', methods=['GET'])\n",
        "def search_loans():\n",
        "    query = request.args.get('q', '').lower()\n",
        "    results = [loan for loan in loans if query in str(loan).lower()] if query else loans\n",
        "    return jsonify(results)\n",
        "\n"
      ]
    },
    {
      "cell_type": "markdown",
      "metadata": {},
      "source": [
        "## Hold routes"
      ]
    },
    {
      "cell_type": "code",
      "execution_count": 52,
      "metadata": {},
      "outputs": [],
      "source": [
        "# --- Hold Routes ---\n",
        "@app.route('/holds', methods=['POST'])\n",
        "def add_hold():\n",
        "    hold = request.get_json()\n",
        "    holds.append(hold)\n",
        "    return jsonify({'message': 'Hold added', 'hold': hold}), 201\n",
        "\n",
        "@app.route('/holds/<int:hold_id>', methods=['DELETE'])\n",
        "def delete_hold(hold_id):\n",
        "    global holds\n",
        "    holds = [hold for hold in holds if hold.get('id') != hold_id]\n",
        "    return jsonify({'message': 'Hold deleted'}), 200\n",
        "\n",
        "@app.route('/holds', methods=['GET'])\n",
        "def search_holds():\n",
        "    query = request.args.get('q', '').lower()\n",
        "    results = [hold for hold in holds if query in str(hold).lower()] if query else holds\n",
        "    return jsonify(results)\n",
        "\n"
      ]
    },
    {
      "cell_type": "markdown",
      "metadata": {},
      "source": [
        "## Book routes"
      ]
    },
    {
      "cell_type": "code",
      "execution_count": 53,
      "metadata": {},
      "outputs": [],
      "source": [
        "# --- Book Routes ---\n",
        "@app.route('/books', methods=['POST'])\n",
        "def add_book():\n",
        "    book = request.get_json()\n",
        "\n",
        "    if 'id' not in book:\n",
        "        print(\"Error: Attempt to add book without id\")\n",
        "        return jsonify({'error': 'book id is required'}), 400\n",
        "    if book.get('id') in books:\n",
        "        print(\"Error: Attempt to add duplicate book\")\n",
        "        return jsonify({'error': 'Book already exists'}), 400\n",
        "    else:\n",
        "        books[book['id']] = book\n",
        "        return jsonify({'message': 'Book Added', 'book': book}), 201\n",
        "\n",
        "@app.route('/books/<book_id>', methods=['DELETE'])\n",
        "def delete_book(book_id):\n",
        "    if book_id in books:\n",
        "        del books[book_id]\n",
        "        return jsonify({'message': 'Book deleted'}), 200\n",
        "    return jsonify({'error': 'Book not found'}), 404\n",
        "\n",
        "@app.route('/books', methods=['GET'])\n",
        "def search_books():\n",
        "    query = request.args.get('q', '').lower()\n",
        "    results = [book for book in books.values() if query in str(book).lower()] if query else list(books.values())\n",
        "    return jsonify(results)\n",
        "\n",
        "@app.route('/books/<book_id>', methods=['GET'])\n",
        "def get_book(book_id):\n",
        "    if book_id in books:\n",
        "        return jsonify(books[book_id])\n",
        "    return jsonify({'error': 'Book not found'}), 404"
      ]
    },
    {
      "cell_type": "markdown",
      "metadata": {},
      "source": [
        "## Run the server"
      ]
    },
    {
      "cell_type": "code",
      "execution_count": null,
      "metadata": {},
      "outputs": [
        {
          "name": "stdout",
          "output_type": "stream",
          "text": [
            "host='172.24.32.1'\n",
            " * Serving Flask app '__main__'\n",
            " * Serving Flask app '__main__'\n"
          ]
        },
        {
          "name": "stdout",
          "output_type": "stream",
          "text": [
            " * Debug mode: off\n"
          ]
        },
        {
          "name": "stderr",
          "output_type": "stream",
          "text": [
            "WARNING: This is a development server. Do not use it in a production deployment. Use a production WSGI server instead.\n",
            " * Running on http://172.24.32.1:5917\n",
            "\n",
            " * Running on http://172.24.32.1:5917\n",
            "Press CTRL+C to quitPress CTRL+C to quit\n",
            "\n",
            "172.24.32.1 - - [22/Apr/2025 12:06:20] \"POST /reset HTTP/1.1\" 200 -\n",
            "172.24.32.1 - - [22/Apr/2025 12:06:20] \"POST /reset HTTP/1.1\" 200 -\n",
            "172.24.32.1 - - [22/Apr/2025 12:06:20] \"172.24.32.1 - - [22/Apr/2025 12:06:20] \"POST /users HTTP/1.1POST /users HTTP/1.1\" 201 -\n",
            "\" 201 -\n",
            "172.24.32.1 - - [22/Apr/2025 12:06:20] \"172.24.32.1 - - [22/Apr/2025 12:06:20] \"POST /users HTTP/1.1POST /users HTTP/1.1\" 400 -\n",
            "\" 400 -\n",
            "172.24.32.1 - - [22/Apr/2025 12:06:20] \"GET /users HTTP/1.1\" 200 -\n",
            "172.24.32.1 - - [22/Apr/2025 12:06:20] \"GET /users HTTP/1.1\" 200 -\n",
            "172.24.32.1 - - [22/Apr/2025 12:06:20] \"GET /users HTTP/1.1\" 200 -\n",
            "172.24.32.1 - - [22/Apr/2025 12:06:20] \"GET /users HTTP/1.1\" 200 -\n",
            "172.24.32.1 - - [22/Apr/2025 12:06:20] \"172.24.32.1 - - [22/Apr/2025 12:06:20] \"POST /users HTTP/1.1POST /users HTTP/1.1\" 201 -\n",
            "\" 201 -\n",
            "172.24.32.1 - - [22/Apr/2025 12:06:20] \"GET /users HTTP/1.1\" 200 -\n",
            "172.24.32.1 - - [22/Apr/2025 12:06:20] \"GET /users HTTP/1.1\" 200 -\n"
          ]
        },
        {
          "name": "stdout",
          "output_type": "stream",
          "text": [
            "Error: Attempt to add duplicate user\n"
          ]
        },
        {
          "name": "stderr",
          "output_type": "stream",
          "text": [
            "172.24.32.1 - - [22/Apr/2025 12:06:22] \"POST /reset HTTP/1.1\" 200 -\n",
            "172.24.32.1 - - [22/Apr/2025 12:06:22] \"172.24.32.1 - - [22/Apr/2025 12:06:22] \"POST /books HTTP/1.1POST /books HTTP/1.1\" 201 -\n",
            "\" 201 -\n",
            "172.24.32.1 - - [22/Apr/2025 12:06:22] \"172.24.32.1 - - [22/Apr/2025 12:06:22] \"POST /books HTTP/1.1POST /books HTTP/1.1\" 400 -\n",
            "\" 400 -\n",
            "172.24.32.1 - - [22/Apr/2025 12:06:22] \"172.24.32.1 - - [22/Apr/2025 12:06:22] \"POST /books HTTP/1.1POST /books HTTP/1.1\" 201 -\n",
            "\" 201 -\n",
            "172.24.32.1 - - [22/Apr/2025 12:06:22] \"172.24.32.1 - - [22/Apr/2025 12:06:22] \"POST /books HTTP/1.1POST /books HTTP/1.1\" 201 -\n",
            "\" 201 -\n",
            "172.24.32.1 - - [22/Apr/2025 12:06:22] \"GET /books HTTP/1.1\" 200 -\n",
            "172.24.32.1 - - [22/Apr/2025 12:06:22] \"GET /books HTTP/1.1\" 200 -\n",
            "172.24.32.1 - - [22/Apr/2025 12:06:22] \"GET /books HTTP/1.1\" 200 -\n",
            "172.24.32.1 - - [22/Apr/2025 12:06:22] \"GET /books HTTP/1.1\" 200 -\n",
            "172.24.32.1 - - [22/Apr/2025 12:06:22] \"GET /books HTTP/1.1\" 200 -\n",
            "172.24.32.1 - - [22/Apr/2025 12:06:22] \"GET /books HTTP/1.1\" 200 -\n",
            "172.24.32.1 - - [22/Apr/2025 12:06:22] \"GET /books HTTP/1.1\" 200 -\n",
            "172.24.32.1 - - [22/Apr/2025 12:06:22] \"GET /books HTTP/1.1\" 200 -\n"
          ]
        },
        {
          "name": "stdout",
          "output_type": "stream",
          "text": [
            "Error: Attempt to add duplicate book\n"
          ]
        },
        {
          "name": "stderr",
          "output_type": "stream",
          "text": [
            "172.24.32.1 - - [22/Apr/2025 12:06:25] \"POST /reset HTTP/1.1\" 200 -\n",
            "172.24.32.1 - - [22/Apr/2025 12:06:26] \"172.24.32.1 - - [22/Apr/2025 12:06:26] \"POST /books HTTP/1.1POST /books HTTP/1.1\" 201 -\n",
            "\" 201 -\n",
            "172.24.32.1 - - [22/Apr/2025 12:06:26] \"172.24.32.1 - - [22/Apr/2025 12:06:26] \"POST /users HTTP/1.1POST /users HTTP/1.1\" 201 -\n",
            "\" 201 -\n",
            "172.24.32.1 - - [22/Apr/2025 12:06:26] \"172.24.32.1 - - [22/Apr/2025 12:06:26] \"POST /books HTTP/1.1POST /books HTTP/1.1\" 400 -\n",
            "\" 400 -\n",
            "172.24.32.1 - - [22/Apr/2025 12:06:26] \"172.24.32.1 - - [22/Apr/2025 12:06:26] \"POST /users HTTP/1.1POST /users HTTP/1.1\" 400 -\n",
            "\" 400 -\n",
            "172.24.32.1 - - [22/Apr/2025 12:06:26] \"172.24.32.1 - - [22/Apr/2025 12:06:26] \"POST /books HTTP/1.1POST /books HTTP/1.1\" 201 -\n",
            "\" 201 -\n",
            "172.24.32.1 - - [22/Apr/2025 12:06:26] \"GET /users HTTP/1.1\" 200 -\n",
            "172.24.32.1 - - [22/Apr/2025 12:06:26] \"GET /users HTTP/1.1\" 200 -\n",
            "172.24.32.1 - - [22/Apr/2025 12:06:26] \"GET /users HTTP/1.1\" 200 -\n",
            "172.24.32.1 - - [22/Apr/2025 12:06:26] \"GET /users HTTP/1.1\" 200 -\n",
            "172.24.32.1 - - [22/Apr/2025 12:06:26] \"172.24.32.1 - - [22/Apr/2025 12:06:26] \"POST /users HTTP/1.1POST /users HTTP/1.1\" 201 -\n",
            "\" 201 -\n",
            "172.24.32.1 - - [22/Apr/2025 12:06:26] \"172.24.32.1 - - [22/Apr/2025 12:06:26] \""
          ]
        },
        {
          "name": "stdout",
          "output_type": "stream",
          "text": [
            "Error: Attempt to add duplicate book\n",
            "Error: Attempt to add duplicate user\n"
          ]
        },
        {
          "name": "stderr",
          "output_type": "stream",
          "text": [
            "POST /books HTTP/1.1\" 201 -\n",
            "\" 201 -\n",
            "172.24.32.1 - - [22/Apr/2025 12:06:26] \"GET /books HTTP/1.1\" 200 -\n",
            "172.24.32.1 - - [22/Apr/2025 12:06:26] \"GET /books HTTP/1.1\" 200 -\n",
            "172.24.32.1 - - [22/Apr/2025 12:06:26] \"GET /users HTTP/1.1\" 200 -\n",
            "172.24.32.1 - - [22/Apr/2025 12:06:26] \"GET /users HTTP/1.1\" 200 -\n",
            "172.24.32.1 - - [22/Apr/2025 12:06:26] \"GET /books HTTP/1.1\" 200 -\n",
            "172.24.32.1 - - [22/Apr/2025 12:06:26] \"GET /books HTTP/1.1\" 200 -\n",
            "172.24.32.1 - - [22/Apr/2025 12:06:26] \"GET /books HTTP/1.1\" 200 -\n",
            "172.24.32.1 - - [22/Apr/2025 12:06:26] \"GET /books HTTP/1.1\" 200 -\n",
            "172.24.32.1 - - [22/Apr/2025 12:06:27] \"POST /reset HTTP/1.1\" 200 -\n",
            "172.24.32.1 - - [22/Apr/2025 12:06:27] \"POST /reset HTTP/1.1\" 200 -\n",
            "172.24.32.1 - - [22/Apr/2025 12:06:28] \"172.24.32.1 - - [22/Apr/2025 12:06:28] \"POST /loans HTTP/1.1POST /loans HTTP/1.1\" 400 -\n",
            "\" 400 -\n",
            "172.24.32.1 - - [22/Apr/2025 12:07:23] \"POST /reset HTTP/1.1\" 200 -\n",
            "172.24.32.1 - - [22/Apr/2025 12:07:23] \"POST /reset HTTP/1.1\" 200 -\n",
            "172.24.32.1 - - [22/Apr/2025 12:07:23] \"172.24.32.1 - - [22/Apr/2025 12:07:23] \"POST /users HTTP/1.1POST /users HTTP/1.1\" 201 -\n",
            "\" 201 -\n",
            "172.24.32.1 - - [22/Apr/2025 12:07:23] \"172.24.32.1 - - [22/Apr/2025 12:07:23] \"POST /users HTTP/1.1POST /users HTTP/1.1\" 201 -\n",
            "\" 201 -\n",
            "172.24.32.1 - - [22/Apr/2025 12:07:23] \"172.24.32.1 - - [22/Apr/2025 12:07:23] \"POST /loans HTTP/1.1POST /loans HTTP/1.1\" 400 -\n",
            "\" 400 -\n",
            "172.24.32.1 - - [22/Apr/2025 12:08:06] \"POST /reset HTTP/1.1\" 200 -\n",
            "172.24.32.1 - - [22/Apr/2025 12:08:06] \"POST /reset HTTP/1.1\" 200 -\n",
            "172.24.32.1 - - [22/Apr/2025 12:08:06] \"172.24.32.1 - - [22/Apr/2025 12:08:06] \"POST /users HTTP/1.1POST /users HTTP/1.1\" 201 -\n",
            "\" 201 -\n",
            "172.24.32.1 - - [22/Apr/2025 12:08:06] \"172.24.32.1 - - [22/Apr/2025 12:08:06] \"POST /users HTTP/1.1POST /users HTTP/1.1\" 201 -\n",
            "\" 201 -\n",
            "172.24.32.1 - - [22/Apr/2025 12:08:06] \"172.24.32.1 - - [22/Apr/2025 12:08:06] \"POST /books HTTP/1.1POST /books HTTP/1.1\" 201 -\n",
            "\" 201 -\n",
            "172.24.32.1 - - [22/Apr/2025 12:08:06] \"172.24.32.1 - - [22/Apr/2025 12:08:06] \"POST /books HTTP/1.1POST /books HTTP/1.1\" 201 -\n",
            "\" 201 -\n",
            "172.24.32.1 - - [22/Apr/2025 12:08:06] \"172.24.32.1 - - [22/Apr/2025 12:08:06] \"POST /books HTTP/1.1POST /books HTTP/1.1\" 201 -\n",
            "\" 201 -\n",
            "172.24.32.1 - - [22/Apr/2025 12:08:06] \"172.24.32.1 - - [22/Apr/2025 12:08:06] \"POST /loans HTTP/1.1POST /loans HTTP/1.1\" 400 -\n",
            "\" 400 -\n",
            "172.24.32.1 - - [22/Apr/2025 12:15:24] \"POST /reset HTTP/1.1\" 200 -\n",
            "172.24.32.1 - - [22/Apr/2025 12:15:24] \"POST /reset HTTP/1.1\" 200 -\n",
            "172.24.32.1 - - [22/Apr/2025 12:15:24] \"172.24.32.1 - - [22/Apr/2025 12:15:24] \"POST /users HTTP/1.1POST /users HTTP/1.1\" 201 -\n",
            "\" 201 -\n",
            "172.24.32.1 - - [22/Apr/2025 12:18:48] \"POST /reset HTTP/1.1\" 200 -\n",
            "172.24.32.1 - - [22/Apr/2025 12:18:48] \"POST /reset HTTP/1.1\" 200 -\n",
            "172.24.32.1 - - [22/Apr/2025 12:18:48] \"172.24.32.1 - - [22/Apr/2025 12:18:48] \"POST /users HTTP/1.1POST /users HTTP/1.1\" 201 -\n",
            "\" 201 -\n",
            "172.24.32.1 - - [22/Apr/2025 12:20:48] \"POST /reset HTTP/1.1\" 200 -\n",
            "172.24.32.1 - - [22/Apr/2025 12:20:49] \"POST /users HTTP/1.1\" 201 -\n",
            "172.24.32.1 - - [22/Apr/2025 12:21:52] \"POST /reset HTTP/1.1\" 200 -\n",
            "172.24.32.1 - - [22/Apr/2025 12:21:52] \"POST /users HTTP/1.1\" 201 -\n",
            "172.24.32.1 - - [22/Apr/2025 12:22:47] \"POST /reset HTTP/1.1\" 200 -\n",
            "172.24.32.1 - - [22/Apr/2025 12:22:47] \"POST /users HTTP/1.1\" 201 -\n",
            "172.24.32.1 - - [22/Apr/2025 12:23:11] \"POST /reset HTTP/1.1\" 200 -\n",
            "172.24.32.1 - - [22/Apr/2025 12:23:12] \"POST /users HTTP/1.1\" 201 -\n",
            "172.24.32.1 - - [22/Apr/2025 12:23:12] \"POST /users HTTP/1.1\" 201 -\n",
            "172.24.32.1 - - [22/Apr/2025 12:23:12] \"POST /books HTTP/1.1\" 201 -\n",
            "172.24.32.1 - - [22/Apr/2025 12:23:12] \"POST /books HTTP/1.1\" 201 -\n",
            "172.24.32.1 - - [22/Apr/2025 12:23:12] \"POST /books HTTP/1.1\" 201 -\n",
            "172.24.32.1 - - [22/Apr/2025 12:23:12] \"POST /loans HTTP/1.1\" 400 -\n",
            "172.24.32.1 - - [22/Apr/2025 12:24:00] \"POST /reset HTTP/1.1\" 200 -\n",
            "172.24.32.1 - - [22/Apr/2025 12:24:00] \"POST /users HTTP/1.1\" 201 -\n",
            "172.24.32.1 - - [22/Apr/2025 12:24:00] \"POST /users HTTP/1.1\" 201 -\n",
            "172.24.32.1 - - [22/Apr/2025 12:24:00] \"POST /books HTTP/1.1\" 201 -\n",
            "172.24.32.1 - - [22/Apr/2025 12:24:00] \"POST /books HTTP/1.1\" 201 -\n",
            "172.24.32.1 - - [22/Apr/2025 12:24:00] \"POST /books HTTP/1.1\" 201 -\n",
            "172.24.32.1 - - [22/Apr/2025 12:24:00] \"POST /loans HTTP/1.1\" 400 -\n",
            "172.24.32.1 - - [22/Apr/2025 12:24:54] \"POST /reset HTTP/1.1\" 200 -\n",
            "172.24.32.1 - - [22/Apr/2025 12:24:55] \"POST /users HTTP/1.1\" 201 -\n",
            "172.24.32.1 - - [22/Apr/2025 12:24:55] \"POST /users HTTP/1.1\" 201 -\n",
            "172.24.32.1 - - [22/Apr/2025 12:24:55] \"POST /books HTTP/1.1\" 201 -\n",
            "172.24.32.1 - - [22/Apr/2025 12:24:55] \"POST /books HTTP/1.1\" 201 -\n",
            "172.24.32.1 - - [22/Apr/2025 12:24:55] \"POST /books HTTP/1.1\" 201 -\n",
            "172.24.32.1 - - [22/Apr/2025 12:24:55] \"POST /loans HTTP/1.1\" 400 -\n",
            "172.24.32.1 - - [22/Apr/2025 12:26:23] \"POST /reset HTTP/1.1\" 200 -\n",
            "172.24.32.1 - - [22/Apr/2025 12:26:24] \"POST /users HTTP/1.1\" 201 -\n",
            "172.24.32.1 - - [22/Apr/2025 12:26:24] \"POST /users HTTP/1.1\" 201 -\n",
            "172.24.32.1 - - [22/Apr/2025 12:26:24] \"POST /books HTTP/1.1\" 201 -\n",
            "172.24.32.1 - - [22/Apr/2025 12:26:24] \"POST /books HTTP/1.1\" 201 -\n",
            "172.24.32.1 - - [22/Apr/2025 12:26:24] \"POST /books HTTP/1.1\" 201 -\n",
            "172.24.32.1 - - [22/Apr/2025 12:26:24] \"POST /loans HTTP/1.1\" 400 -\n",
            "172.24.32.1 - - [22/Apr/2025 12:28:29] \"POST /reset HTTP/1.1\" 200 -\n",
            "172.24.32.1 - - [22/Apr/2025 12:28:29] \"POST /users HTTP/1.1\" 201 -\n",
            "172.24.32.1 - - [22/Apr/2025 12:28:30] \"POST /users HTTP/1.1\" 201 -\n",
            "172.24.32.1 - - [22/Apr/2025 12:28:30] \"POST /books HTTP/1.1\" 201 -\n",
            "172.24.32.1 - - [22/Apr/2025 12:28:30] \"POST /books HTTP/1.1\" 201 -\n",
            "172.24.32.1 - - [22/Apr/2025 12:28:30] \"POST /books HTTP/1.1\" 201 -\n",
            "172.24.32.1 - - [22/Apr/2025 12:28:30] \"POST /loans HTTP/1.1\" 400 -\n",
            "172.24.32.1 - - [22/Apr/2025 12:35:41] \"POST /reset HTTP/1.1\" 200 -\n",
            "172.24.32.1 - - [22/Apr/2025 12:35:41] \"POST /users HTTP/1.1\" 201 -\n",
            "172.24.32.1 - - [22/Apr/2025 12:35:41] \"POST /users HTTP/1.1\" 201 -\n",
            "172.24.32.1 - - [22/Apr/2025 12:35:41] \"POST /books HTTP/1.1\" 201 -\n",
            "172.24.32.1 - - [22/Apr/2025 12:35:41] \"POST /books HTTP/1.1\" 201 -\n",
            "172.24.32.1 - - [22/Apr/2025 12:35:41] \"POST /books HTTP/1.1\" 201 -\n",
            "172.24.32.1 - - [22/Apr/2025 12:35:41] \"POST /loans HTTP/1.1\" 400 -\n",
            "172.24.32.1 - - [22/Apr/2025 12:36:09] \"POST /reset HTTP/1.1\" 200 -\n",
            "172.24.32.1 - - [22/Apr/2025 12:36:09] \"POST /users HTTP/1.1\" 201 -\n",
            "172.24.32.1 - - [22/Apr/2025 12:36:09] \"POST /users HTTP/1.1\" 201 -\n",
            "172.24.32.1 - - [22/Apr/2025 12:36:09] \"POST /books HTTP/1.1\" 201 -\n",
            "172.24.32.1 - - [22/Apr/2025 12:36:09] \"POST /books HTTP/1.1\" 201 -\n",
            "172.24.32.1 - - [22/Apr/2025 12:36:09] \"POST /books HTTP/1.1\" 201 -\n",
            "172.24.32.1 - - [22/Apr/2025 12:36:09] \"POST /loans HTTP/1.1\" 400 -\n",
            "172.24.32.1 - - [22/Apr/2025 12:37:23] \"POST /reset HTTP/1.1\" 200 -\n",
            "172.24.32.1 - - [22/Apr/2025 12:37:24] \"POST /users HTTP/1.1\" 201 -\n",
            "172.24.32.1 - - [22/Apr/2025 12:37:24] \"POST /users HTTP/1.1\" 400 -\n",
            "172.24.32.1 - - [22/Apr/2025 12:37:24] \"GET /users HTTP/1.1\" 200 -\n",
            "172.24.32.1 - - [22/Apr/2025 12:37:24] \"GET /users HTTP/1.1\" 200 -\n",
            "172.24.32.1 - - [22/Apr/2025 12:37:24] \"POST /users HTTP/1.1\" 201 -\n",
            "172.24.32.1 - - [22/Apr/2025 12:37:24] \"GET /users HTTP/1.1\" 200 -\n"
          ]
        },
        {
          "name": "stdout",
          "output_type": "stream",
          "text": [
            "Error: Attempt to add duplicate user\n"
          ]
        },
        {
          "name": "stderr",
          "output_type": "stream",
          "text": [
            "172.24.32.1 - - [22/Apr/2025 12:43:43] \"POST /reset HTTP/1.1\" 200 -\n",
            "172.24.32.1 - - [22/Apr/2025 12:43:43] \"POST /users HTTP/1.1\" 201 -\n",
            "172.24.32.1 - - [22/Apr/2025 12:43:43] \"POST /users HTTP/1.1\" 400 -\n",
            "172.24.32.1 - - [22/Apr/2025 12:43:43] \"GET /users HTTP/1.1\" 200 -\n",
            "172.24.32.1 - - [22/Apr/2025 12:43:43] \"GET /users HTTP/1.1\" 200 -\n",
            "172.24.32.1 - - [22/Apr/2025 12:43:43] \"POST /users HTTP/1.1\" 201 -\n",
            "172.24.32.1 - - [22/Apr/2025 12:43:43] \"GET /users HTTP/1.1\" 200 -\n"
          ]
        },
        {
          "name": "stdout",
          "output_type": "stream",
          "text": [
            "Error: Attempt to add duplicate user\n"
          ]
        },
        {
          "name": "stderr",
          "output_type": "stream",
          "text": [
            "172.24.32.1 - - [22/Apr/2025 12:44:18] \"POST /reset HTTP/1.1\" 200 -\n",
            "172.24.32.1 - - [22/Apr/2025 12:44:18] \"POST /users HTTP/1.1\" 201 -\n",
            "172.24.32.1 - - [22/Apr/2025 12:44:18] \"POST /users HTTP/1.1\" 400 -\n",
            "172.24.32.1 - - [22/Apr/2025 12:44:18] \"GET /users HTTP/1.1\" 200 -\n",
            "172.24.32.1 - - [22/Apr/2025 12:44:18] \"GET /users HTTP/1.1\" 200 -\n",
            "172.24.32.1 - - [22/Apr/2025 12:44:19] \"POST /users HTTP/1.1\" 201 -\n",
            "172.24.32.1 - - [22/Apr/2025 12:44:19] \"GET /users HTTP/1.1\" 200 -\n"
          ]
        },
        {
          "name": "stdout",
          "output_type": "stream",
          "text": [
            "Error: Attempt to add duplicate user\n"
          ]
        },
        {
          "name": "stderr",
          "output_type": "stream",
          "text": [
            "172.24.32.1 - - [22/Apr/2025 12:48:08] \"POST /reset HTTP/1.1\" 200 -\n",
            "172.24.32.1 - - [22/Apr/2025 12:48:56] \"POST /reset HTTP/1.1\" 200 -\n",
            "172.24.32.1 - - [22/Apr/2025 12:49:08] \"POST /reset HTTP/1.1\" 200 -\n",
            "172.24.32.1 - - [22/Apr/2025 12:49:08] \"POST /users HTTP/1.1\" 201 -\n",
            "172.24.32.1 - - [22/Apr/2025 12:49:08] \"POST /users HTTP/1.1\" 400 -\n",
            "172.24.32.1 - - [22/Apr/2025 12:49:08] \"GET /users HTTP/1.1\" 200 -\n",
            "172.24.32.1 - - [22/Apr/2025 12:49:08] \"GET /users HTTP/1.1\" 200 -\n",
            "172.24.32.1 - - [22/Apr/2025 12:49:08] \"POST /users HTTP/1.1\" 201 -\n",
            "172.24.32.1 - - [22/Apr/2025 12:49:08] \"GET /users HTTP/1.1\" 200 -\n"
          ]
        },
        {
          "name": "stdout",
          "output_type": "stream",
          "text": [
            "Error: Attempt to add duplicate user\n"
          ]
        },
        {
          "name": "stderr",
          "output_type": "stream",
          "text": [
            "172.24.32.1 - - [22/Apr/2025 12:50:46] \"POST /reset HTTP/1.1\" 200 -\n",
            "172.24.32.1 - - [22/Apr/2025 12:50:46] \"POST /users HTTP/1.1\" 201 -\n",
            "172.24.32.1 - - [22/Apr/2025 12:50:46] \"POST /users HTTP/1.1\" 400 -\n",
            "172.24.32.1 - - [22/Apr/2025 12:50:46] \"GET /users HTTP/1.1\" 200 -\n",
            "172.24.32.1 - - [22/Apr/2025 12:50:46] \"GET /users HTTP/1.1\" 200 -\n",
            "172.24.32.1 - - [22/Apr/2025 12:50:46] \"POST /users HTTP/1.1\" 201 -\n",
            "172.24.32.1 - - [22/Apr/2025 12:50:46] \"GET /users HTTP/1.1\" 200 -\n"
          ]
        },
        {
          "name": "stdout",
          "output_type": "stream",
          "text": [
            "Error: Attempt to add duplicate user\n"
          ]
        },
        {
          "name": "stderr",
          "output_type": "stream",
          "text": [
            "172.24.32.1 - - [22/Apr/2025 12:51:37] \"POST /reset HTTP/1.1\" 200 -\n",
            "172.24.32.1 - - [22/Apr/2025 12:51:37] \"POST /users HTTP/1.1\" 201 -\n",
            "172.24.32.1 - - [22/Apr/2025 12:51:37] \"POST /users HTTP/1.1\" 400 -\n",
            "172.24.32.1 - - [22/Apr/2025 12:51:37] \"GET /users HTTP/1.1\" 200 -\n",
            "172.24.32.1 - - [22/Apr/2025 12:51:37] \"GET /users HTTP/1.1\" 200 -\n",
            "172.24.32.1 - - [22/Apr/2025 12:51:37] \"POST /users HTTP/1.1\" 201 -\n",
            "172.24.32.1 - - [22/Apr/2025 12:51:37] \"GET /users HTTP/1.1\" 200 -\n"
          ]
        },
        {
          "name": "stdout",
          "output_type": "stream",
          "text": [
            "Error: Attempt to add duplicate user\n"
          ]
        },
        {
          "name": "stderr",
          "output_type": "stream",
          "text": [
            "172.24.32.1 - - [22/Apr/2025 12:51:52] \"POST /reset HTTP/1.1\" 200 -\n",
            "172.24.32.1 - - [22/Apr/2025 12:51:52] \"POST /users HTTP/1.1\" 201 -\n",
            "172.24.32.1 - - [22/Apr/2025 12:51:52] \"POST /users HTTP/1.1\" 400 -\n",
            "172.24.32.1 - - [22/Apr/2025 12:51:52] \"GET /users HTTP/1.1\" 200 -\n",
            "172.24.32.1 - - [22/Apr/2025 12:51:52] \"GET /users HTTP/1.1\" 200 -\n",
            "172.24.32.1 - - [22/Apr/2025 12:51:52] \"POST /users HTTP/1.1\" 201 -\n",
            "172.24.32.1 - - [22/Apr/2025 12:51:52] \"GET /users HTTP/1.1\" 200 -\n"
          ]
        },
        {
          "name": "stdout",
          "output_type": "stream",
          "text": [
            "Error: Attempt to add duplicate user\n"
          ]
        },
        {
          "name": "stderr",
          "output_type": "stream",
          "text": [
            "172.24.32.1 - - [22/Apr/2025 12:52:18] \"POST /reset HTTP/1.1\" 200 -\n",
            "172.24.32.1 - - [22/Apr/2025 12:52:19] \"POST /users HTTP/1.1\" 201 -\n",
            "172.24.32.1 - - [22/Apr/2025 12:52:19] \"POST /users HTTP/1.1\" 400 -\n",
            "172.24.32.1 - - [22/Apr/2025 12:52:19] \"GET /users HTTP/1.1\" 200 -\n",
            "172.24.32.1 - - [22/Apr/2025 12:52:19] \"GET /users HTTP/1.1\" 200 -\n",
            "172.24.32.1 - - [22/Apr/2025 12:52:19] \"POST /users HTTP/1.1\" 201 -\n",
            "172.24.32.1 - - [22/Apr/2025 12:52:19] \"GET /users HTTP/1.1\" 200 -\n"
          ]
        },
        {
          "name": "stdout",
          "output_type": "stream",
          "text": [
            "Error: Attempt to add duplicate user\n"
          ]
        },
        {
          "name": "stderr",
          "output_type": "stream",
          "text": [
            "172.24.32.1 - - [22/Apr/2025 12:52:35] \"POST /reset HTTP/1.1\" 200 -\n",
            "172.24.32.1 - - [22/Apr/2025 12:52:35] \"POST /users HTTP/1.1\" 201 -\n",
            "172.24.32.1 - - [22/Apr/2025 12:52:35] \"POST /users HTTP/1.1\" 400 -\n",
            "172.24.32.1 - - [22/Apr/2025 12:52:35] \"GET /users HTTP/1.1\" 200 -\n",
            "172.24.32.1 - - [22/Apr/2025 12:52:35] \"GET /users HTTP/1.1\" 200 -\n",
            "172.24.32.1 - - [22/Apr/2025 12:52:35] \"POST /users HTTP/1.1\" 201 -\n",
            "172.24.32.1 - - [22/Apr/2025 12:52:36] \"GET /users HTTP/1.1\" 200 -\n"
          ]
        },
        {
          "name": "stdout",
          "output_type": "stream",
          "text": [
            "Error: Attempt to add duplicate user\n"
          ]
        },
        {
          "name": "stderr",
          "output_type": "stream",
          "text": [
            "172.24.32.1 - - [22/Apr/2025 12:55:04] \"POST /reset HTTP/1.1\" 200 -\n",
            "172.24.32.1 - - [22/Apr/2025 12:55:04] \"POST /users HTTP/1.1\" 201 -\n",
            "172.24.32.1 - - [22/Apr/2025 12:55:05] \"POST /users HTTP/1.1\" 400 -\n",
            "172.24.32.1 - - [22/Apr/2025 12:55:05] \"GET /users HTTP/1.1\" 200 -\n",
            "172.24.32.1 - - [22/Apr/2025 12:55:05] \"GET /users HTTP/1.1\" 200 -\n",
            "172.24.32.1 - - [22/Apr/2025 12:55:05] \"POST /users HTTP/1.1\" 201 -\n",
            "172.24.32.1 - - [22/Apr/2025 12:55:05] \"GET /users HTTP/1.1\" 200 -\n"
          ]
        },
        {
          "name": "stdout",
          "output_type": "stream",
          "text": [
            "Error: Attempt to add duplicate user\n"
          ]
        },
        {
          "name": "stderr",
          "output_type": "stream",
          "text": [
            "172.24.32.1 - - [22/Apr/2025 12:55:54] \"POST /reset HTTP/1.1\" 200 -\n",
            "172.24.32.1 - - [22/Apr/2025 12:55:54] \"POST /users HTTP/1.1\" 201 -\n",
            "172.24.32.1 - - [22/Apr/2025 12:55:54] \"POST /users HTTP/1.1\" 400 -\n",
            "172.24.32.1 - - [22/Apr/2025 12:55:54] \"GET /users HTTP/1.1\" 200 -\n",
            "172.24.32.1 - - [22/Apr/2025 12:55:54] \"GET /users HTTP/1.1\" 200 -\n",
            "172.24.32.1 - - [22/Apr/2025 12:55:54] \"POST /users HTTP/1.1\" 201 -\n",
            "172.24.32.1 - - [22/Apr/2025 12:55:54] \"GET /users HTTP/1.1\" 200 -\n"
          ]
        },
        {
          "name": "stdout",
          "output_type": "stream",
          "text": [
            "Error: Attempt to add duplicate user\n"
          ]
        },
        {
          "name": "stderr",
          "output_type": "stream",
          "text": [
            "172.24.32.1 - - [22/Apr/2025 12:56:36] \"POST /reset HTTP/1.1\" 200 -\n",
            "172.24.32.1 - - [22/Apr/2025 12:56:36] \"POST /users HTTP/1.1\" 201 -\n",
            "172.24.32.1 - - [22/Apr/2025 12:56:36] \"POST /users HTTP/1.1\" 201 -\n",
            "172.24.32.1 - - [22/Apr/2025 12:56:36] \"POST /books HTTP/1.1\" 201 -\n",
            "172.24.32.1 - - [22/Apr/2025 12:56:36] \"POST /loans HTTP/1.1\" 400 -\n"
          ]
        }
      ],
      "source": [
        "import socket\n",
        "import random\n",
        "\n",
        "host = socket.gethostbyname(socket.gethostname())\n",
        "print(f\"{host=}\")\n",
        "\n",
        "port = random.randint(1024, 65535)\n",
        "url = f\"http://{host}:{port}\"\n",
        "\n",
        "threading.Thread(target=app.run, kwargs={'host':host,'port':port}).start()\n"
      ]
    },
    {
      "cell_type": "markdown",
      "metadata": {},
      "source": [
        "## A reset script that runs before each test"
      ]
    },
    {
      "cell_type": "markdown",
      "metadata": {},
      "source": [
        "The file `reset.py` is a simple Python script that resets the system under test (SUT) to a known state. We will use Provengoe's `--before` command line argument to run this script before each test.\n"
      ]
    },
    {
      "cell_type": "code",
      "execution_count": 55,
      "metadata": {},
      "outputs": [],
      "source": [
        "import platform\n",
        "\n",
        "\n",
        "# Write the reset.py script\n",
        "with open(\"reset.py\", \"w\") as f:\n",
        "    f.write(f\"\"\"\\\n",
        "import requests\n",
        "test_data = {{\n",
        "    'users': [{{ 'id': 1, 'name': 'Test User' }}],\n",
        "    'books': {{'1': {{ 'id': '1', 'title': 'Test Book' }}}}\n",
        "}}\n",
        "requests.post('{url}/reset', json=test_data)\n",
        "\"\"\")\n",
        "\n",
        "# A hack to run reset on linux because the space in \"python reset.py\" is not allowed\n",
        "if platform.system() != \"Windows\":\n",
        "    !echo '#!/bin/bash' > before_script.sh\n",
        "    !echo 'python reset.py' >> before_script.sh\n",
        "    !chmod +x before_script.sh"
      ]
    },
    {
      "cell_type": "markdown",
      "metadata": {
        "id": "MeJqk5zMjm45"
      },
      "source": [
        "# Test model"
      ]
    },
    {
      "cell_type": "markdown",
      "metadata": {},
      "source": [
        "## Creating a new empty model"
      ]
    },
    {
      "cell_type": "markdown",
      "metadata": {},
      "source": [
        "We first create a new test model called `BookStoreDemo` by running the following command:\n"
      ]
    },
    {
      "cell_type": "code",
      "execution_count": 56,
      "metadata": {
        "colab": {
          "base_uri": "https://localhost:8080/"
        },
        "id": "KCgXSJEMIOc9",
        "outputId": "5351653e-4f52-47b0-cb63-8f9c88552ce3"
      },
      "outputs": [
        {
          "name": "stdout",
          "output_type": "stream",
          "text": [
            "        / /\n",
            "     /\\/ /   ____\n",
            "  /\\/ /\\/ / |  _ \\ _ __  _____   __ ___  _ __   __ _  ___\n",
            " /  \\/\\/\\/  | |_) | '__|/ _ \\ \\ / // _ \\| '_ \\ / _` |/ _ \\\n",
            " \\  /\\/\\/\\  |  __/| |  | (_) \\ V /|  __/| | | | (_| | (_) |\n",
            "  \\/\\ \\/\\ \\ |_|   |_|   \\___/ \\_/  \\___||_| |_|\\__, |\\___/\n",
            "     \\/\\ \\                                     |___/\n",
            "        \\ \\\n",
            "\n",
            "12:06:19.569 INFO [SETUP] We'd love to hear from you! hello@provengo.tech or https://provengo.tech/feedback/\n",
            "12:06:19.640 ERR  [SETUP] c:\\temp\\ProvengoDemo\\BookStoreDemo Folder already exist. delete the existing folder or create new project with new name.\n",
            "12:06:19.640 ERR  [Main] Terminating because of previous errors. See logs.\n",
            "12:06:19.645 ERR  [Main] 40 BadRequest\n"
          ]
        }
      ],
      "source": [
        "!provengo --batch-mode create BookStoreDemo"
      ]
    },
    {
      "cell_type": "markdown",
      "metadata": {},
      "source": [
        "## Adding file containing general test information"
      ]
    },
    {
      "cell_type": "markdown",
      "metadata": {},
      "source": [
        "An effective way to set gloabl parameters to the testing model is to use a file that contains general test information. This file can be imported into the test model and used to set global parameters. In this example, we will use a file called `_constatnts.py` to set the global parameters `host` and `port`. This parameters will be available to all our scriptss."
      ]
    },
    {
      "cell_type": "code",
      "execution_count": 57,
      "metadata": {
        "id": "C3W6SvauA0K0",
        "vscode": {
          "languageId": "javascript"
        }
      },
      "outputs": [],
      "source": [
        "with open(\"BookStoreDemo/spec/js/_constants.js\", \"w\") as f:\n",
        "  f.write(f\"const {host=}; const {port=};\")"
      ]
    },
    {
      "cell_type": "markdown",
      "metadata": {},
      "source": [
        "## Adding interface function to simplify the test scripts"
      ]
    },
    {
      "cell_type": "markdown",
      "metadata": {},
      "source": [
        "We will add a file called `interface.py` that contains functions that will be used to simplify the test scripts. This function will be used to make HTTP requests to the SUT. These are just simple wrapper function that hide the unneccesary details of making HTTP requests."
      ]
    },
    {
      "cell_type": "code",
      "execution_count": null,
      "metadata": {
        "vscode": {
          "languageId": "javascript"
        }
      },
      "outputs": [
        {
          "name": "stdout",
          "output_type": "stream",
          "text": [
            "Overwriting BookStoreDemo//spec//js//interface.js\n"
          ]
        }
      ],
      "source": [
        "%%writefile BookStoreDemo//spec//js//interface.js\n",
        "\n",
        "const svc = new RESTSession(\"http://\" + host + \":\" + port, \"provengo basedclient\", {\n",
        "    headers: { \"Content-Type\": \"application/json\" }\n",
        "});\n",
        "\n",
        "// Add a book to the store\n",
        "function addBook(id, title) {\n",
        "    svc.post(\"/books\", { body: JSON.stringify({ id: id, title: title, }), });\n",
        "    bp.log.info(\"Add book with id \" + id + \" and title \" + title);\n",
        "}\n",
        "\n",
        "// Add a user to the store\n",
        "function addUser(id, name) {\n",
        "    svc.post(\"/users\", { body: JSON.stringify({ id: id, name: name, }), });\n",
        "    bp.log.info(\"Add user with id \" + id + \" and name \" + name);\n",
        "}\n",
        "\n",
        "// Try to add a book that already exists\n",
        "function tryToAddExistingBook(id, title) {\n",
        "    svc.post(\"/books\", {\n",
        "        body: JSON.stringify({ id: id, title: title }),\n",
        "        expectedResponseCodes: [400]\n",
        "    });\n",
        "    bp.log.info(\"Try to add existing book with id \" + id + \" and title \" + title);\n",
        "}\n",
        "\n",
        "// Try to add a user that already exists\n",
        "function tryToAddExistingUser(id, name) {\n",
        "    svc.post(\"/users\", {\n",
        "        body: JSON.stringify({ id: id, name: name }),\n",
        "        expectedResponseCodes: [400]\n",
        "    });\n",
        "    bp.log.info(\"Try to add existing user with id \" + id + \" and name \" + name);\n",
        "}\n",
        "\n",
        "// Verify that a user exists\n",
        "function verifyUserExists(id, name) {\n",
        "    svc.get(\"/users\", {\n",
        "        callback: function (response) {\n",
        "            user = JSON.parse(response.body);\n",
        "            for (let i = 0; i < user.length; i++) {\n",
        "                if (user[i].id === id && user[i].name === name) {\n",
        "                    return pvg.success(\"User exists\");\n",
        "                }\n",
        "            }\n",
        "            return pvg.fail(\"Expected a user to exists but it does not\");\n",
        "        }\n",
        "    });\n",
        "    bp.log.info(\"Verify user with \"+ id + \" and name \" + name + \" exists\");\n",
        "}\n",
        "\n",
        "// Verify that a user does not exist\n",
        "function verifyUserDoesNotExist(id, name) {\n",
        "    svc.get(\"/users\", {\n",
        "        callback: function (response) {\n",
        "            user = JSON.parse(response.body);\n",
        "            for (let i = 0; i < user.length; i++) {\n",
        "                if (user[i].id === id && user[i].name === name) {\n",
        "                    return pvg.fail(\"Expected a user to not exist but it does\");\n",
        "                }\n",
        "            }\n",
        "            return pvg.success(\"User does not exist\");\n",
        "        }\n",
        "    });\n",
        "    bp.log.info(\"Verify user with \"+ id + \" and \" + name + \" does not exist\");\n",
        "}\n",
        "\n",
        "\n",
        "// Verify that a book exists\n",
        "function verifyBookExists(id, title) {\n",
        "    svc.get(\"/books\", {\n",
        "        callback: function (response) {\n",
        "            book = JSON.parse(response.body);\n",
        "            for (let i = 0; i < book.length; i++) {\n",
        "                if (book[i].id === id && book[i].title === title) {\n",
        "                    return pvg.success(\"Book exists\");\n",
        "                }\n",
        "            }\n",
        "            return pvg.fail(\"Expected a book to exists but it does not\");\n",
        "        }\n",
        "    });\n",
        "    bp.log.info(\"Verify book with \"+ id + \" and \" + title + \" exists\");\n",
        "}\n",
        "\n",
        "// Verify that a book does not exist\n",
        "function verifyBookDoesNotExist(id, title) {\n",
        "    svc.get(\"/books\", {\n",
        "        callback: function (response) {\n",
        "            book = JSON.parse(response.body);\n",
        "            for (let i = 0; i < book.length; i++) {\n",
        "                if (book[i].id === id && book[i].title === title) {\n",
        "                    return pvg.fail(\"Expected a book to not exist but it does\");\n",
        "                }\n",
        "            }\n",
        "            return pvg.success(\"Book does not exist\");\n",
        "        }\n",
        "    });\n",
        "    bp.log.info(\"Verify book with \"+ id + \" and \" + title + \" does not exist\");\n",
        "}\n",
        "\n",
        "\n",
        "// Helper functions for Loan API endpoints\n",
        "function addLoan(id, userId) {\n",
        "    svc.post(\"/loans\", { body: JSON.stringify({ id: id, userId: userId }) });\n",
        "    bp.log.info(\"Add loan with id \" + id + \" and userId \" + userId);\n",
        "\n",
        "}\n",
        "\n",
        "function deleteLoan(id) {\n",
        "    svc.delete(\"/loans/\" + id);\n",
        "    bp.log.info(\"Delete loan with id \" + id);\n",
        "}\n",
        "\n",
        "function checkLoanExists(id) {\n",
        "    svc.get(\"/loans?q=\" + id, function(response) {\n",
        "        const results = JSON.parse(response.body);\n",
        "        if (results.some(loan => loan.id === id)) {\n",
        "            pvg.success(\"Loan \" + id + \" exists\");\n",
        "        } else {\n",
        "            pvg.fail(\"Loan \" + id + \" not found\");\n",
        "        }\n",
        "    });\n",
        "    bp.log.info(\"Check that loan with id \" + id + \" exists\");\n",
        "}\n",
        "\n",
        "function checkLoanDoesNotExist(id) {\n",
        "    svc.get(\"/loans?q=\" + id, function(response) {\n",
        "        const results = JSON.parse(response.body);\n",
        "        if (results.some(loan => loan.id === id)) {\n",
        "            pvg.fail(\"Loan \" + id + \" should not exist but it does\");\n",
        "        } else {\n",
        "            pvg.success(\"Loan \" + id + \" does not exist\");\n",
        "        }\n",
        "    });\n",
        "    bp.log.info(\"Check that loan with id \" + id + \" does not exist\");\n",
        "}\n"
      ]
    },
    {
      "cell_type": "markdown",
      "metadata": {},
      "source": [
        "## Writing our first (linear) test scripts"
      ]
    },
    {
      "cell_type": "markdown",
      "metadata": {},
      "source": [
        "Our first test script is a standard sequence of HTTP requests that tests the basic functionality of the SUT. The script,  called `hello_world.js`, is shown below:"
      ]
    },
    {
      "cell_type": "code",
      "execution_count": null,
      "metadata": {
        "colab": {
          "base_uri": "https://localhost:8080/"
        },
        "id": "WBSyW0OKjwig",
        "outputId": "cbccbb7e-569f-4635-c4e2-53a17fb5cc30",
        "vscode": {
          "languageId": "javascript"
        }
      },
      "outputs": [
        {
          "name": "stdout",
          "output_type": "stream",
          "text": [
            "Overwriting BookStoreDemo/spec/js/hello-world.js\n"
          ]
        }
      ],
      "source": [
        "%%writefile BookStoreDemo/spec/js/hello-world.js\n",
        "//@provengo summon rest\n",
        "\n",
        "\n",
        "bthread(\"User API\", function () {\n",
        "  addUser(111, \"John Doe\");\n",
        "  tryToAddExistingUser(111, \"John Doe\");\n",
        "  verifyUserExists(111, \"John Doe\");\n",
        "  verifyUserDoesNotExist(222, \"Jane Doe\");\n",
        "  addUser(222, \"John Doe\");\n",
        "  verifyUserExists(222, \"John Doe\");\n",
        "});"
      ]
    },
    {
      "cell_type": "code",
      "execution_count": 115,
      "metadata": {
        "vscode": {
          "languageId": "javascript"
        }
      },
      "outputs": [
        {
          "name": "stdout",
          "output_type": "stream",
          "text": [
            "        / /\n",
            "     /\\/ /   ____\n",
            "  /\\/ /\\/ / |  _ \\ _ __  _____   __ ___  _ __   __ _  ___\n",
            " /  \\/\\/\\/  | |_) | '__|/ _ \\ \\ / // _ \\| '_ \\ / _` |/ _ \\\n",
            " \\  /\\/\\/\\  |  __/| |  | (_) \\ V /|  __/| | | | (_| | (_) |\n",
            "  \\/\\ \\/\\ \\ |_|   |_|   \\___/ \\_/  \\___||_| |_|\\__, |\\___/\n",
            "     \\/\\ \\                                     |___/\n",
            "        \\ \\\n",
            "\n",
            "12:52:35.063 INFO [SETUP] We'd love to hear from you! hello@provengo.tech or https://provengo.tech/feedback/\n",
            "12:52:35.065 INFO [SETUP] Project path: c:\\temp\\ProvengoDemo\\BookStoreDemo\n",
            "12:52:35.073 INFO [RUN] Preparing to run\n",
            "12:52:35.305 INFO [RUN>random>Before Test] Running Before Test command: python reset.py\n",
            "12:52:35.494 INFO [RUN>random>Before Test] Done running Before Test command: python reset.py\n",
            "12:52:35.672 INFO [RUN>random] B-program started\n",
            "12:52:35.696 INFO [RUN>random] Selected: [POST {lib:\"REST\", method:\"POST\", url:\"http://172.24.32.1:5917/users\", headers:{Content-Type:\"application/json\"}, parameters:{}, expectedResponseCodes:[], callback:{}, body:\"{\"id\":111,\"name\":\"John Doe\"}\"}]\n",
            "12:52:35.886 WARN [RUN>random] Add user with id 111 and name John Doe\n",
            "12:52:35.890 INFO [RUN>random] Selected: [POST {lib:\"REST\", method:\"POST\", url:\"http://172.24.32.1:5917/users\", headers:{Content-Type:\"application/json\"}, parameters:{}, expectedResponseCodes:[0:400.0], callback:{}, body:\"{\"id\":111,\"name\":\"John Doe\"}\"}]\n",
            "12:52:35.934 INFO [RUN>random] Try to add existing user with id 111 and name John Doe\n",
            "12:52:35.936 INFO [RUN>random] Selected: [GET {lib:\"REST\", method:\"GET\", url:\"http://172.24.32.1:5917/users\", headers:{Content-Type:\"application/json\"}, parameters:{}, expectedResponseCodes:[], callback:{}}]\n",
            "12:52:35.963 INFO [RUN>random] Verify user with 111 and name John Doe exists\n",
            "12:52:35.965 INFO [RUN>random] Selected: [GET {lib:\"REST\", method:\"GET\", url:\"http://172.24.32.1:5917/users\", headers:{Content-Type:\"application/json\"}, parameters:{}, expectedResponseCodes:[], callback:{}}]\n",
            "12:52:35.986 INFO [RUN>random] Verify user with 222 and Jane Doe does not exist\n",
            "12:52:35.987 INFO [RUN>random] Selected: [POST {lib:\"REST\", method:\"POST\", url:\"http://172.24.32.1:5917/users\", headers:{Content-Type:\"application/json\"}, parameters:{}, expectedResponseCodes:[], callback:{}, body:\"{\"id\":222,\"name\":\"John Doe\"}\"}]\n",
            "12:52:36.015 WARN [RUN>random] Add user with id 222 and name John Doe\n",
            "12:52:36.016 INFO [RUN>random] Selected: [GET {lib:\"REST\", method:\"GET\", url:\"http://172.24.32.1:5917/users\", headers:{Content-Type:\"application/json\"}, parameters:{}, expectedResponseCodes:[], callback:{}}]\n",
            "12:52:36.035 INFO [RUN>random] Verify user with 222 and name John Doe exists\n",
            "12:52:36.045 INFO [RUN] Test Result: SUCCESS\n"
          ]
        }
      ],
      "source": [
        "if platform.system() == \"Windows\":\n",
        "    !provengo run BookStoreDemo --before=\"python reset.py\" \n",
        "else:\n",
        "    !provengo run BookStoreDemo --before=./before_script.sh"
      ]
    },
    {
      "cell_type": "code",
      "execution_count": null,
      "metadata": {
        "vscode": {
          "languageId": "javascript"
        }
      },
      "outputs": [],
      "source": []
    },
    {
      "cell_type": "markdown",
      "metadata": {},
      "source": [
        "In addition to testing the user-related functionality, it is essential to create test scripts that cover other critical components of the SUT. For example, we can create scripts to test the book-related API endpoints. This ensures that the system behaves as expected when managing books, including adding, verifying, and handling duplicate entries.\n",
        "\n",
        "By modularizing the test scripts, we can focus on specific functionalities, making it easier to identify and debug issues. Below is an example script that tests the book-related API endpoints:"
      ]
    },
    {
      "cell_type": "code",
      "execution_count": 61,
      "metadata": {
        "vscode": {
          "languageId": "javascript"
        }
      },
      "outputs": [
        {
          "name": "stdout",
          "output_type": "stream",
          "text": [
            "Overwriting BookStoreDemo/spec/js/hello-world.js\n"
          ]
        }
      ],
      "source": [
        "%%writefile BookStoreDemo/spec/js/hello-world.js\n",
        "//@provengo summon rest\n",
        "\n",
        "// Test script for the Book API\n",
        "bthread(\"Book API\", function () {\n",
        "    // Add a new book\n",
        "    addBook(111, \"The Great Gatsby\");\n",
        "\n",
        "    // Attempt to add a duplicate book (should fail)\n",
        "    tryToAddExistingBook(111, \"The Great Gatsby\");\n",
        "\n",
        "    // Add more books\n",
        "    addBook(222, \"The Catcher in the Rye\");\n",
        "    addBook(333, \"To Kill a Mockingbird\");\n",
        "\n",
        "    // Verify that the books exist\n",
        "    verifyBookExists(111, \"The Great Gatsby\");\n",
        "    verifyBookExists(222, \"The Catcher in the Rye\");\n",
        "    verifyBookExists(333, \"To Kill a Mockingbird\");\n",
        "\n",
        "    // Verify that a non-existent book does not exist\n",
        "    verifyBookDoesNotExist(444, \"Harry Potter\");\n",
        "});"
      ]
    },
    {
      "cell_type": "code",
      "execution_count": 62,
      "metadata": {
        "vscode": {
          "languageId": "javascript"
        }
      },
      "outputs": [
        {
          "name": "stdout",
          "output_type": "stream",
          "text": [
            "        / /\n",
            "     /\\/ /   ____\n",
            "  /\\/ /\\/ / |  _ \\ _ __  _____   __ ___  _ __   __ _  ___\n",
            " /  \\/\\/\\/  | |_) | '__|/ _ \\ \\ / // _ \\| '_ \\ / _` |/ _ \\\n",
            " \\  /\\/\\/\\  |  __/| |  | (_) \\ V /|  __/| | | | (_| | (_) |\n",
            "  \\/\\ \\/\\ \\ |_|   |_|   \\___/ \\_/  \\___||_| |_|\\__, |\\___/\n",
            "     \\/\\ \\                                     |___/\n",
            "        \\ \\\n",
            "\n",
            "12:06:21.832 INFO [SETUP] We'd love to hear from you! hello@provengo.tech or https://provengo.tech/feedback/\n",
            "12:06:21.834 INFO [SETUP] Project path: c:\\temp\\ProvengoDemo\\BookStoreDemo\n",
            "12:06:21.844 INFO [RUN] Preparing to run\n",
            "12:06:22.085 INFO [RUN>random>Before Test] Running Before Test command: python reset.py\n",
            "12:06:22.284 INFO [RUN>random>Before Test] Done running Before Test command: python reset.py\n",
            "12:06:22.473 INFO [RUN>random] B-program started\n",
            "12:06:22.495 INFO [RUN>random] Selected: [addBook {id:111.0, title:\"The Great Gatsby\", lib:\"bp-base\"}]\n",
            "12:06:22.510 INFO [RUN>random] Selected: [POST {lib:\"REST\", method:\"POST\", url:\"http://172.24.32.1:5917/books\", headers:{Content-Type:\"application/json\"}, parameters:{}, expectedResponseCodes:[], callback:{}, body:\"{\"id\":111,\"title\":\"The Great Gatsby\"}\"}]\n",
            "12:06:22.692 INFO [RUN>random] Selected: [POST {lib:\"REST\", method:\"POST\", url:\"http://172.24.32.1:5917/books\", headers:{Content-Type:\"application/json\"}, parameters:{}, expectedResponseCodes:[0:400.0], callback:{}, body:\"{\"id\":111,\"title\":\"The Great Gatsby\"}\"}]\n",
            "12:06:22.737 INFO [RUN>random] Selected: [addBook {id:222.0, title:\"The Catcher in the Rye\", lib:\"bp-base\"}]\n",
            "12:06:22.744 INFO [RUN>random] Selected: [POST {lib:\"REST\", method:\"POST\", url:\"http://172.24.32.1:5917/books\", headers:{Content-Type:\"application/json\"}, parameters:{}, expectedResponseCodes:[], callback:{}, body:\"{\"id\":222,\"title\":\"The Catcher in the Rye\"}\"}]\n",
            "12:06:22.779 INFO [RUN>random] Selected: [addBook {id:333.0, title:\"To Kill a Mockingbird\", lib:\"bp-base\"}]\n",
            "12:06:22.785 INFO [RUN>random] Selected: [POST {lib:\"REST\", method:\"POST\", url:\"http://172.24.32.1:5917/books\", headers:{Content-Type:\"application/json\"}, parameters:{}, expectedResponseCodes:[], callback:{}, body:\"{\"id\":333,\"title\":\"To Kill a Mockingbird\"}\"}]\n",
            "12:06:22.817 INFO [RUN>random] Selected: [GET {lib:\"REST\", method:\"GET\", url:\"http://172.24.32.1:5917/books\", headers:{Content-Type:\"application/json\"}, parameters:{}, expectedResponseCodes:[], callback:{}}]\n",
            "12:06:22.841 INFO [RUN>random] Selected: [GET {lib:\"REST\", method:\"GET\", url:\"http://172.24.32.1:5917/books\", headers:{Content-Type:\"application/json\"}, parameters:{}, expectedResponseCodes:[], callback:{}}]\n",
            "12:06:22.861 INFO [RUN>random] Selected: [GET {lib:\"REST\", method:\"GET\", url:\"http://172.24.32.1:5917/books\", headers:{Content-Type:\"application/json\"}, parameters:{}, expectedResponseCodes:[], callback:{}}]\n",
            "12:06:22.880 INFO [RUN>random] Selected: [GET {lib:\"REST\", method:\"GET\", url:\"http://172.24.32.1:5917/books\", headers:{Content-Type:\"application/json\"}, parameters:{}, expectedResponseCodes:[], callback:{}}]\n",
            "12:06:22.911 INFO [RUN] Test Result: SUCCESS\n"
          ]
        }
      ],
      "source": [
        "if platform.system() == \"Windows\":\n",
        "    !provengo run BookStoreDemo --before=\"python reset.py\" \n",
        "else:\n",
        "    !provengo run BookStoreDemo --before=./before_script.sh"
      ]
    },
    {
      "cell_type": "markdown",
      "metadata": {},
      "source": [
        "## Interleaving two scenarios"
      ]
    },
    {
      "cell_type": "code",
      "execution_count": 63,
      "metadata": {
        "vscode": {
          "languageId": "javascript"
        }
      },
      "outputs": [
        {
          "name": "stdout",
          "output_type": "stream",
          "text": [
            "Overwriting BookStoreDemo/spec/js/hello-world.js\n"
          ]
        }
      ],
      "source": [
        "%%writefile BookStoreDemo/spec/js/hello-world.js\n",
        "//@provengo summon rest\n",
        "bthread(\"Book API\", function () {\n",
        "    addBook(111, \"The Great Gatsby\"); \n",
        "    tryToAddExistingBook(111, \"The Great Gatsby\");\n",
        "    addBook(222, \"The Catcher in the Rye\");\n",
        "    addBook(333, \"The Catcher in the Rye\");\n",
        "    verifyBookExists(111, \"The Great Gatsby\");\n",
        "    verifyBookExists(222, \"The Catcher in the Rye\");\n",
        "    verifyBookDoesNotExist(444, \"Harry Potter\");\n",
        "});\n",
        "\n",
        "\n",
        "bthread(\"User API\", function () {\n",
        "  addUser(111, \"John Doe\");\n",
        "  tryToAddExistingUser(111, \"John Doe\");\n",
        "  verifyUserExists(111, \"John Doe\");\n",
        "  verifyUserDoesNotExist(222, \"Jane Doe\");\n",
        "  addUser(222, \"John Doe\");\n",
        "  verifyUserExists(222, \"John Doe\");\n",
        "});"
      ]
    },
    {
      "cell_type": "code",
      "execution_count": 64,
      "metadata": {
        "vscode": {
          "languageId": "javascript"
        }
      },
      "outputs": [
        {
          "name": "stdout",
          "output_type": "stream",
          "text": [
            "        / /\n",
            "     /\\/ /   ____\n",
            "  /\\/ /\\/ / |  _ \\ _ __  _____   __ ___  _ __   __ _  ___\n",
            " /  \\/\\/\\/  | |_) | '__|/ _ \\ \\ / // _ \\| '_ \\ / _` |/ _ \\\n",
            " \\  /\\/\\/\\  |  __/| |  | (_) \\ V /|  __/| | | | (_| | (_) |\n",
            "  \\/\\ \\/\\ \\ |_|   |_|   \\___/ \\_/  \\___||_| |_|\\__, |\\___/\n",
            "     \\/\\ \\                                     |___/\n",
            "        \\ \\\n",
            "\n",
            "12:06:23.741 INFO [SETUP] We'd love to hear from you! hello@provengo.tech or https://provengo.tech/feedback/\n",
            "12:06:23.743 INFO [SETUP] Project path: c:\\temp\\ProvengoDemo\\BookStoreDemo\n",
            "12:06:23.789 INFO [ANALYZE] Max DFS depth: 60 (default value)\n",
            "12:06:24.784 INFO [ANALYZE] Found 79 states, connected by 120 edges.\n",
            "12:06:24.860 INFO [ANALYZE] output c:\\temp\\ProvengoDemo\\BookStoreDemo\\products\\run-source\\testSpace.gv\n",
            "\n",
            "     /\\/ /   ____\n",
            "  /\\/ /\\/ / |  _ \\ _ __  _____   __ ___  _ __   __ _  ___\n",
            " /  \\/\\/\\/  | |_) | '__|/ _ \\ \\ / // _ \\| '_ \\ / _` |/ _ \\\n",
            " \\  /\\/\\/\\  |  __/| |  | (_) \\ V /|  __/| | | | (_| | (_) |\n",
            "  \\/\\ \\/\\ \\ |_|   |_|   \\___/ \\_/  \\___||_| |_|\\__, |\\___/\n",
            "     \\/\\ \\                                     |___/\n",
            "        \\ \\\n",
            "\n",
            "12:06:23.741 INFO [SETUP] We'd love to hear from you! hello@provengo.tech or https://provengo.tech/feedback/\n",
            "12:06:23.743 INFO [SETUP] Project path: c:\\temp\\ProvengoDemo\\BookStoreDemo\n",
            "12:06:23.789 INFO [ANALYZE] Max DFS depth: 60 (default value)\n",
            "12:06:24.784 INFO [ANALYZE] Found 79 states, connected by 120 edges.\n",
            "12:06:24.860 INFO [ANALYZE] output c:\\temp\\ProvengoDemo\\BookStoreDemo\\products\\run-source\\testSpace.gv\n"
          ]
        }
      ],
      "source": [
        "!provengo analyze -fgv --style=full BookStoreDemo"
      ]
    },
    {
      "cell_type": "code",
      "execution_count": 65,
      "metadata": {
        "vscode": {
          "languageId": "javascript"
        }
      },
      "outputs": [
        {
          "name": "stdout",
          "output_type": "stream",
          "text": [
            "        / /\n",
            "     /\\/ /   ____\n",
            "  /\\/ /\\/ / |  _ \\ _ __  _____   __ ___  _ __   __ _  ___\n",
            " /  \\/\\/\\/  | |_) | '__|/ _ \\ \\ / // _ \\| '_ \\ / _` |/ _ \\\n",
            " \\  /\\/\\/\\  |  __/| |  | (_) \\ V /|  __/| | | | (_| | (_) |\n",
            "  \\/\\ \\/\\ \\ |_|   |_|   \\___/ \\_/  \\___||_| |_|\\__, |\\___/\n",
            "     \\/\\ \\                                     |___/\n",
            "        \\ \\\n",
            "\n",
            "12:06:25.211 INFO [SETUP] We'd love to hear from you! hello@provengo.tech or https://provengo.tech/feedback/\n",
            "12:06:25.213 INFO [SETUP] Project path: c:\\temp\\ProvengoDemo\\BookStoreDemo\n",
            "12:06:25.220 INFO [RUN] Preparing to run\n",
            "12:06:25.457 INFO [RUN>random>Before Test] Running Before Test command: python reset.py\n",
            "12:06:25.644 INFO [RUN>random>Before Test] Done running Before Test command: python reset.py\n",
            "12:06:25.818 INFO [RUN>random] B-program started\n",
            "12:06:25.844 INFO [RUN>random] Selected: [addBook {id:111.0, title:\"The Great Gatsby\", lib:\"bp-base\"}]\n",
            "12:06:25.860 INFO [RUN>random] Selected: [POST {lib:\"REST\", method:\"POST\", url:\"http://172.24.32.1:5917/books\", headers:{Content-Type:\"application/json\"}, parameters:{}, expectedResponseCodes:[], callback:{}, body:\"{\"id\":111,\"title\":\"The Great Gatsby\"}\"}]\n",
            "12:06:26.045 INFO [RUN>random] Selected: [POST {lib:\"REST\", method:\"POST\", url:\"http://172.24.32.1:5917/users\", headers:{Content-Type:\"application/json\"}, parameters:{}, expectedResponseCodes:[], callback:{}, body:\"{\"id\":111,\"name\":\"John Doe\"}\"}]\n",
            "12:06:26.091 INFO [RUN>random] Selected: [tryToAddExistingUser {id:111.0, name:\"John Doe\", lib:\"bp-base\"}]\n",
            "12:06:26.098 INFO [RUN>random] Selected: [POST {lib:\"REST\", method:\"POST\", url:\"http://172.24.32.1:5917/books\", headers:{Content-Type:\"application/json\"}, parameters:{}, expectedResponseCodes:[0:400.0], callback:{}, body:\"{\"id\":111,\"title\":\"The Great Gatsby\"}\"}]\n",
            "12:06:26.132 INFO [RUN>random] Selected: [addBook {id:222.0, title:\"The Catcher in the Rye\", lib:\"bp-base\"}]\n",
            "12:06:26.139 INFO [RUN>random] Selected: [POST {lib:\"REST\", method:\"POST\", url:\"http://172.24.32.1:5917/users\", headers:{Content-Type:\"application/json\"}, parameters:{}, expectedResponseCodes:[0:400.0], callback:{}, body:\"{\"id\":111,\"name\":\"John Doe\"}\"}]\n",
            "12:06:26.170 INFO [RUN>random] Selected: [POST {lib:\"REST\", method:\"POST\", url:\"http://172.24.32.1:5917/books\", headers:{Content-Type:\"application/json\"}, parameters:{}, expectedResponseCodes:[], callback:{}, body:\"{\"id\":222,\"title\":\"The Catcher in the Rye\"}\"}]\n",
            "12:06:26.206 INFO [RUN>random] Selected: [addBook {id:333.0, title:\"The Catcher in the Rye\", lib:\"bp-base\"}]\n",
            "12:06:26.215 INFO [RUN>random] Selected: [GET {lib:\"REST\", method:\"GET\", url:\"http://172.24.32.1:5917/users\", headers:{Content-Type:\"application/json\"}, parameters:{}, expectedResponseCodes:[], callback:{}}]\n",
            "12:06:26.246 INFO [RUN>random] Selected: [GET {lib:\"REST\", method:\"GET\", url:\"http://172.24.32.1:5917/users\", headers:{Content-Type:\"application/json\"}, parameters:{}, expectedResponseCodes:[], callback:{}}]\n",
            "12:06:26.268 INFO [RUN>random] Selected: [POST {lib:\"REST\", method:\"POST\", url:\"http://172.24.32.1:5917/users\", headers:{Content-Type:\"application/json\"}, parameters:{}, expectedResponseCodes:[], callback:{}, body:\"{\"id\":222,\"name\":\"John Doe\"}\"}]\n",
            "12:06:26.299 INFO [RUN>random] Selected: [POST {lib:\"REST\", method:\"POST\", url:\"http://172.24.32.1:5917/books\", headers:{Content-Type:\"application/json\"}, parameters:{}, expectedResponseCodes:[], callback:{}, body:\"{\"id\":333,\"title\":\"The Catcher in the Rye\"}\"}]\n",
            "12:06:26.328 INFO [RUN>random] Selected: [GET {lib:\"REST\", method:\"GET\", url:\"http://172.24.32.1:5917/books\", headers:{Content-Type:\"application/json\"}, parameters:{}, expectedResponseCodes:[], callback:{}}]\n",
            "12:06:26.348 INFO [RUN>random] Selected: [GET {lib:\"REST\", method:\"GET\", url:\"http://172.24.32.1:5917/users\", headers:{Content-Type:\"application/json\"}, parameters:{}, expectedResponseCodes:[], callback:{}}]\n",
            "12:06:26.368 INFO [RUN>random] Selected: [GET {lib:\"REST\", method:\"GET\", url:\"http://172.24.32.1:5917/books\", headers:{Content-Type:\"application/json\"}, parameters:{}, expectedResponseCodes:[], callback:{}}]\n",
            "12:06:26.388 INFO [RUN>random] Selected: [GET {lib:\"REST\", method:\"GET\", url:\"http://172.24.32.1:5917/books\", headers:{Content-Type:\"application/json\"}, parameters:{}, expectedResponseCodes:[], callback:{}}]\n",
            "12:06:26.418 INFO [RUN] Test Result: SUCCESS\n"
          ]
        }
      ],
      "source": [
        "if platform.system() == \"Windows\":\n",
        "    !provengo run BookStoreDemo --before=\"python reset.py\" \n",
        "else:\n",
        "    !provengo run BookStoreDemo --before=./before_script.sh"
      ]
    },
    {
      "cell_type": "code",
      "execution_count": 119,
      "metadata": {
        "vscode": {
          "languageId": "javascript"
        }
      },
      "outputs": [
        {
          "name": "stdout",
          "output_type": "stream",
          "text": [
            "Overwriting BookStoreDemo/spec/js/hello-world.js\n"
          ]
        }
      ],
      "source": [
        "%%writefile BookStoreDemo/spec/js/hello-world.js\n",
        "//@provengo summon rest\n",
        "\n",
        "\n",
        "\n",
        "bthread(\"Loan API\", function () {\n",
        "\n",
        "    // Add users\n",
        "    addUser(111, \"John Doe\");\n",
        "    addUser(222, \"Jane Doe\");\n",
        "\n",
        "    // Add books\n",
        "    addBook(101, \"The Great Gatsby\");\n",
        "    //addBook(102, \"The Catcher in the Rye\");\n",
        "\n",
        "    // Add two loans\n",
        "    addLoan(101, 111);\n",
        "    addLoan(102, 222);\n",
        "\n",
        "    // Verify that loan 101 exists\n",
        "    checkLoanExists(101);\n",
        "\n",
        "    // Delete loan 101\n",
        "    deleteLoan(101);\n",
        "\n",
        "    // Verify that loan 101 has been deleted\n",
        "    checkLoanDoesNotExist(101);\n",
        "});"
      ]
    },
    {
      "cell_type": "code",
      "execution_count": 120,
      "metadata": {
        "vscode": {
          "languageId": "javascript"
        }
      },
      "outputs": [
        {
          "name": "stdout",
          "output_type": "stream",
          "text": [
            "        / /\n",
            "     /\\/ /   ____\n",
            "  /\\/ /\\/ / |  _ \\ _ __  _____   __ ___  _ __   __ _  ___\n",
            " /  \\/\\/\\/  | |_) | '__|/ _ \\ \\ / // _ \\| '_ \\ / _` |/ _ \\\n",
            " \\  /\\/\\/\\  |  __/| |  | (_) \\ V /|  __/| | | | (_| | (_) |\n",
            "  \\/\\ \\/\\ \\ |_|   |_|   \\___/ \\_/  \\___||_| |_|\\__, |\\___/\n",
            "     \\/\\ \\                                     |___/\n",
            "        \\ \\\n",
            "\n",
            "12:56:35.829 INFO [SETUP] We'd love to hear from you! hello@provengo.tech or https://provengo.tech/feedback/\n",
            "12:56:35.831 INFO [SETUP] Project path: c:\\temp\\ProvengoDemo\\BookStoreDemo\n",
            "12:56:35.840 INFO [RUN] Preparing to run\n",
            "12:56:36.075 INFO [RUN>random>Before Test] Running Before Test command: python reset.py\n",
            "12:56:36.300 INFO [RUN>random>Before Test] Done running Before Test command: python reset.py\n",
            "12:56:36.488 INFO [RUN>random] B-program started\n",
            "12:56:36.512 INFO [RUN>random] Selected: [POST {lib:\"REST\", method:\"POST\", url:\"http://172.24.32.1:5917/users\", headers:{Content-Type:\"application/json\"}, parameters:{}, expectedResponseCodes:[], callback:{}, body:\"{\"id\":111,\"name\":\"John Doe\"}\"}]\n",
            "12:56:36.708 INFO [RUN>random] Add user with id 111 and name John Doe\n",
            "12:56:36.711 INFO [RUN>random] Selected: [POST {lib:\"REST\", method:\"POST\", url:\"http://172.24.32.1:5917/users\", headers:{Content-Type:\"application/json\"}, parameters:{}, expectedResponseCodes:[], callback:{}, body:\"{\"id\":222,\"name\":\"Jane Doe\"}\"}]\n",
            "12:56:36.752 INFO [RUN>random] Add user with id 222 and name Jane Doe\n",
            "12:56:36.754 INFO [RUN>random] Selected: [POST {lib:\"REST\", method:\"POST\", url:\"http://172.24.32.1:5917/books\", headers:{Content-Type:\"application/json\"}, parameters:{}, expectedResponseCodes:[], callback:{}, body:\"{\"id\":101,\"title\":\"The Great Gatsby\"}\"}]\n",
            "12:56:36.786 INFO [RUN>random] Add book with id 101 and title The Great Gatsby\n",
            "12:56:36.788 INFO [RUN>random] Selected: [POST {lib:\"REST\", method:\"POST\", url:\"http://172.24.32.1:5917/loans\", headers:{Content-Type:\"application/json\"}, parameters:{}, expectedResponseCodes:[], callback:{}, body:\"{\"id\":101,\"userId\":111}\"}]\n",
            "12:56:36.814 WARN [RUN>random] FAIL: HTTP response status code was 400, which is outside of the successful 200-299 range.\n",
            "If this is a valid response, please add this code to the expectedResponseCodes array in the method parameters..\n",
            "12:56:36.815 WARN [RUN>random] ### Switching to test fail mode. ###\n",
            "12:56:36.819 INFO [RUN>random] Add loan with id 101 and userId 111\n",
            "12:56:36.820 INFO [RUN>random] Selected: [POST {lib:\"REST\", method:\"POST\", url:\"http://172.24.32.1:5917/loans\", headers:{Content-Type:\"application/json\"}, parameters:{}, expectedResponseCodes:[], callback:{}, body:\"{\"id\":102,\"userId\":222}\"}]\n",
            "12:56:36.827 INFO [RUN>random] Test Fail Mode, skipping actuation\n",
            "12:56:36.833 INFO [RUN>random] Add loan with id 102 and userId 222\n",
            "12:56:36.834 INFO [RUN>random] Selected: [GET {lib:\"REST\", method:\"GET\", url:\"http://172.24.32.1:5917/loans?q=101\", headers:{Content-Type:\"application/json\"}, parameters:{}, expectedResponseCodes:[], callback:{}}]\n",
            "12:56:36.853 INFO [RUN>random] Check that loan with id 101 exists\n",
            "12:56:36.854 INFO [RUN>random] Selected: [DELETE {lib:\"REST\", method:\"DELETE\", url:\"http://172.24.32.1:5917/loans/101\", headers:{Content-Type:\"application/json\"}, parameters:{}, expectedResponseCodes:[], callback:{}}]\n",
            "12:56:36.873 ERR  [RUN>random] ReferenceError: \"BP\" is not defined. (c:\\temp\\ProvengoDemo\\BookStoreDemo\\spec\\js\\interface.js#111)\n",
            "12:56:36.874 ERR  [RUN>random] Stack trace:\n",
            "12:56:36.874 ERR  [RUN>random]  ReferenceError: \"BP\" is not defined.\n",
            "\n",
            "12:56:36.874 ERR  [RUN>random]      at deleteLoan (c:\\temp\\ProvengoDemo\\BookStoreDemo\\spec\\js\\interface.js:111:0)\n",
            "\n",
            "12:56:36.874 ERR  [RUN>random]      at c:\\temp\\ProvengoDemo\\BookStoreDemo\\spec\\js\\hello-world.js:23:0\n",
            "\n",
            "12:56:36.874 ERR  [RUN>random]      at dsls/bp-base.js:291:0\n",
            "\n",
            "12:56:36.881 INFO [RUN] Test Result: ERROR\n"
          ]
        }
      ],
      "source": [
        "!provengo run BookStoreDemo --before=\"python reset.py\" "
      ]
    },
    {
      "cell_type": "code",
      "execution_count": null,
      "metadata": {
        "vscode": {
          "languageId": "javascript"
        }
      },
      "outputs": [],
      "source": []
    }
  ],
  "metadata": {
    "colab": {
      "collapsed_sections": [
        "T1xDaG9DihN3",
        "0I5Qp2RBLz1C"
      ],
      "include_colab_link": true,
      "provenance": []
    },
    "kernelspec": {
      "display_name": "Python 3",
      "name": "python3"
    },
    "language_info": {
      "codemirror_mode": {
        "name": "ipython",
        "version": 3
      },
      "file_extension": ".py",
      "mimetype": "text/x-python",
      "name": "python",
      "nbconvert_exporter": "python",
      "pygments_lexer": "ipython3",
      "version": "3.11.0"
    }
  },
  "nbformat": 4,
  "nbformat_minor": 0
}
