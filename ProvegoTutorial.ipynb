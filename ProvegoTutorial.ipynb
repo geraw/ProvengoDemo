{
  "cells": [
    {
      "cell_type": "markdown",
      "metadata": {
        "colab_type": "text",
        "id": "view-in-github"
      },
      "source": [
        "<a href=\"https://colab.research.google.com/github/geraw/ProvengoDemo/blob/main/ProvegoTutorial.ipynb\" target=\"_parent\"><img src=\"https://colab.research.google.com/assets/colab-badge.svg\" alt=\"Open In Colab\"/></a>"
      ]
    },
    {
      "cell_type": "markdown",
      "metadata": {
        "id": "T1xDaG9DihN3"
      },
      "source": [
        "# Installation"
      ]
    },
    {
      "cell_type": "code",
      "execution_count": 29,
      "metadata": {
        "colab": {
          "base_uri": "https://localhost:8080/"
        },
        "id": "S-IoNKf8iMtv",
        "outputId": "571cab72-3eb3-4171-c79e-e1ccca482c20"
      },
      "outputs": [
        {
          "name": "stderr",
          "output_type": "stream",
          "text": [
            "'wget' is not recognized as an internal or external command,\n",
            "operable program or batch file.\n",
            "'apt-get' is not recognized as an internal or external command,\n",
            "operable program or batch file.\n"
          ]
        }
      ],
      "source": [
        "!wget -nc https://downloads.provengo.tech/unix-dist/deb/Provengo-deb.deb\n",
        "!apt-get install ./Provengo-deb.deb"
      ]
    },
    {
      "cell_type": "code",
      "execution_count": 30,
      "metadata": {},
      "outputs": [
        {
          "name": "stdout",
          "output_type": "stream",
          "text": [
            "Defaulting to user installation because normal site-packages is not writeableNote: you may need to restart the kernel to use updated packages.\n",
            "\n",
            "Looking in indexes: https://pypi.org/simple, https://pypi.ngc.nvidia.com\n",
            "Requirement already satisfied: flask in c:\\users\\gera\\appdata\\roaming\\python\\python311\\site-packages (3.1.0)\n",
            "Requirement already satisfied: Werkzeug>=3.1 in c:\\users\\gera\\appdata\\roaming\\python\\python311\\site-packages (from flask) (3.1.3)\n",
            "Requirement already satisfied: Jinja2>=3.1.2 in c:\\users\\gera\\appdata\\roaming\\python\\python311\\site-packages (from flask) (3.1.4)\n",
            "Requirement already satisfied: itsdangerous>=2.2 in c:\\users\\gera\\appdata\\roaming\\python\\python311\\site-packages (from flask) (2.2.0)\n",
            "Requirement already satisfied: click>=8.1.3 in c:\\users\\gera\\appdata\\roaming\\python\\python311\\site-packages (from flask) (8.1.8)\n",
            "Requirement already satisfied: blinker>=1.9 in c:\\users\\gera\\appdata\\roaming\\python\\python311\\site-packages (from flask) (1.9.0)\n",
            "Requirement already satisfied: colorama in c:\\users\\gera\\appdata\\roaming\\python\\python311\\site-packages (from click>=8.1.3->flask) (0.4.6)\n",
            "Requirement already satisfied: MarkupSafe>=2.0 in c:\\users\\gera\\appdata\\roaming\\python\\python311\\site-packages (from Jinja2>=3.1.2->flask) (3.0.1)\n"
          ]
        }
      ],
      "source": [
        "%pip install flask"
      ]
    },
    {
      "cell_type": "markdown",
      "metadata": {
        "id": "VpT8L567hVaI"
      },
      "source": [
        "# System Under Test"
      ]
    },
    {
      "cell_type": "markdown",
      "metadata": {},
      "source": [
        "## Setting up Flask app"
      ]
    },
    {
      "cell_type": "code",
      "execution_count": 31,
      "metadata": {
        "colab": {
          "base_uri": "https://localhost:8080/"
        },
        "id": "AlsMhPMchZAw",
        "outputId": "42746c5a-e984-4bc7-9283-a028caa6cf25"
      },
      "outputs": [],
      "source": [
        "from flask import Flask, request, jsonify\n",
        "import threading\n",
        "import time\n",
        "import os\n",
        "import sys\n",
        "import json\n",
        "import importlib\n",
        "import signal\n",
        "\n",
        "\n",
        "# Create Flask app\n",
        "app = Flask(__name__)\n",
        "#run_with_ngrok(app)  # Allows access from outside\n",
        "\n",
        "# In-memory data store (replace with a database in a real application)\n",
        "users = []\n",
        "loans = []\n",
        "holds = []\n",
        "books = {}\n"
      ]
    },
    {
      "cell_type": "markdown",
      "metadata": {},
      "source": [
        "## A route for resetting the database"
      ]
    },
    {
      "cell_type": "code",
      "execution_count": 32,
      "metadata": {},
      "outputs": [],
      "source": [
        "# A rute for testing that resets the database and loads initial data\n",
        "@app.route('/reset', methods=['POST'])\n",
        "def reset_database():\n",
        "    global users, loans, holds, books\n",
        "    \n",
        "    # Clear all data\n",
        "    users = []\n",
        "    loans = []\n",
        "    holds = []\n",
        "    books = {}\n",
        "    \n",
        "    # If initial data is provided, load it\n",
        "    if request.is_json:\n",
        "        data = request.get_json()\n",
        "        if 'users' in data:\n",
        "            users.extend(data['users'])\n",
        "        if 'loans' in data:\n",
        "            loans.extend(data['loans'])\n",
        "        if 'holds' in data:\n",
        "            holds.extend(data['holds'])\n",
        "        if 'books' in data:\n",
        "            books.update(data['books'])\n",
        "    \n",
        "    return jsonify({\n",
        "        'message': 'Database reset',\n",
        "        'status': {\n",
        "            'users': len(users),\n",
        "            'loans': len(loans),\n",
        "            'holds': len(holds),\n",
        "            'books': len(books)\n",
        "        }\n",
        "    }), 200\n",
        "\n",
        "\n"
      ]
    },
    {
      "cell_type": "markdown",
      "metadata": {},
      "source": [
        "## User routes"
      ]
    },
    {
      "cell_type": "code",
      "execution_count": 33,
      "metadata": {},
      "outputs": [],
      "source": [
        "# --- User Routes ---\n",
        "@app.route('/users', methods=['POST'])\n",
        "def add_user():\n",
        "    user = request.get_json()\n",
        "\n",
        "    if 'id' not in user:\n",
        "        print(\"Error: Attempt to add user without id\")\n",
        "        return jsonify({'error': 'user id is required'}), 400\n",
        "    if  user.get('id') in [u.get('id') for u in users]:\n",
        "        print(\"Error: Attempt to add duplicate user\")\n",
        "        return jsonify({'error': 'User already exists'}), 400\n",
        "    else:\n",
        "      users.append(user)\n",
        "      return jsonify({'message': 'User Added', 'user': user}), 201\n",
        "\n",
        "@app.route('/users/<int:user_id>', methods=['DELETE'])\n",
        "def delete_user(user_id):\n",
        "    global users\n",
        "    users = [user for user in users if user.get('id') != user_id]\n",
        "    return jsonify({'message': 'User deleted'}), 200\n",
        "\n",
        "@app.route('/users', methods=['GET'])\n",
        "def search_users():\n",
        "    query = request.args.get('q', '').lower()\n",
        "    results = [user for user in users if query in str(user).lower()] if query else users\n",
        "    return jsonify(results)\n",
        "\n"
      ]
    },
    {
      "cell_type": "markdown",
      "metadata": {},
      "source": [
        "## Loan routes"
      ]
    },
    {
      "cell_type": "code",
      "execution_count": 34,
      "metadata": {},
      "outputs": [],
      "source": [
        "# --- Loan Routes ---\n",
        "@app.route('/loans', methods=['POST'])\n",
        "def add_loan():\n",
        "    loan = request.get_json()\n",
        "    loans.append(loan)\n",
        "    return jsonify({'message': 'Loan added', 'loan': loan}), 201\n",
        "\n",
        "@app.route('/loans/<int:loan_id>', methods=['DELETE'])\n",
        "def delete_loan(loan_id):\n",
        "    global loans\n",
        "    loans = [loan for loan in loans if loan.get('id') != loan_id]\n",
        "    return jsonify({'message': 'Loan deleted'}), 200\n",
        "\n",
        "@app.route('/loans', methods=['GET'])\n",
        "def search_loans():\n",
        "    query = request.args.get('q', '').lower()\n",
        "    results = [loan for loan in loans if query in str(loan).lower()] if query else loans\n",
        "    return jsonify(results)\n",
        "\n"
      ]
    },
    {
      "cell_type": "markdown",
      "metadata": {},
      "source": [
        "## Hold routes"
      ]
    },
    {
      "cell_type": "code",
      "execution_count": 35,
      "metadata": {},
      "outputs": [],
      "source": [
        "# --- Hold Routes ---\n",
        "@app.route('/holds', methods=['POST'])\n",
        "def add_hold():\n",
        "    hold = request.get_json()\n",
        "    holds.append(hold)\n",
        "    return jsonify({'message': 'Hold added', 'hold': hold}), 201\n",
        "\n",
        "@app.route('/holds/<int:hold_id>', methods=['DELETE'])\n",
        "def delete_hold(hold_id):\n",
        "    global holds\n",
        "    holds = [hold for hold in holds if hold.get('id') != hold_id]\n",
        "    return jsonify({'message': 'Hold deleted'}), 200\n",
        "\n",
        "@app.route('/holds', methods=['GET'])\n",
        "def search_holds():\n",
        "    query = request.args.get('q', '').lower()\n",
        "    results = [hold for hold in holds if query in str(hold).lower()] if query else holds\n",
        "    return jsonify(results)\n",
        "\n"
      ]
    },
    {
      "cell_type": "markdown",
      "metadata": {},
      "source": [
        "## Book routes"
      ]
    },
    {
      "cell_type": "code",
      "execution_count": 36,
      "metadata": {},
      "outputs": [],
      "source": [
        "# --- Book Routes ---\n",
        "@app.route('/books', methods=['POST'])\n",
        "def add_book():\n",
        "    book = request.get_json()\n",
        "\n",
        "    if 'id' not in book:\n",
        "        print(\"Error: Attempt to add book without id\")\n",
        "        return jsonify({'error': 'book id is required'}), 400\n",
        "    if book.get('id') in books:\n",
        "        print(\"Error: Attempt to add duplicate book\")\n",
        "        return jsonify({'error': 'Book already exists'}), 400\n",
        "    else:\n",
        "        books[book['id']] = book\n",
        "        return jsonify({'message': 'Book Added', 'book': book}), 201\n",
        "\n",
        "@app.route('/books/<book_id>', methods=['DELETE'])\n",
        "def delete_book(book_id):\n",
        "    if book_id in books:\n",
        "        del books[book_id]\n",
        "        return jsonify({'message': 'Book deleted'}), 200\n",
        "    return jsonify({'error': 'Book not found'}), 404\n",
        "\n",
        "@app.route('/books', methods=['GET'])\n",
        "def search_books():\n",
        "    query = request.args.get('q', '').lower()\n",
        "    results = [book for book in books.values() if query in str(book).lower()] if query else list(books.values())\n",
        "    return jsonify(results)\n",
        "\n",
        "@app.route('/books/<book_id>', methods=['GET'])\n",
        "def get_book(book_id):\n",
        "    if book_id in books:\n",
        "        return jsonify(books[book_id])\n",
        "    return jsonify({'error': 'Book not found'}), 404"
      ]
    },
    {
      "cell_type": "markdown",
      "metadata": {},
      "source": [
        "## Run the server"
      ]
    },
    {
      "cell_type": "code",
      "execution_count": null,
      "metadata": {},
      "outputs": [
        {
          "name": "stdout",
          "output_type": "stream",
          "text": [
            "host='192.168.56.1'\n",
            " * Serving Flask app '__main__'\n",
            " * Debug mode: off\n"
          ]
        },
        {
          "name": "stderr",
          "output_type": "stream",
          "text": [
            "WARNING: This is a development server. Do not use it in a production deployment. Use a production WSGI server instead.\n",
            " * Running on http://192.168.56.1:25221\n",
            "Press CTRL+C to quit\n",
            "192.168.56.1 - - [15/Mar/2025 20:57:43] \"POST /reset HTTP/1.1\" 200 -\n",
            "192.168.56.1 - - [15/Mar/2025 20:57:43] \"POST /books HTTP/1.1\" 201 -\n",
            "192.168.56.1 - - [15/Mar/2025 20:57:43] \"POST /books HTTP/1.1\" 400 -\n",
            "192.168.56.1 - - [15/Mar/2025 20:57:43] \"POST /books HTTP/1.1\" 201 -\n",
            "192.168.56.1 - - [15/Mar/2025 20:57:43] \"POST /books HTTP/1.1\" 201 -\n",
            "192.168.56.1 - - [15/Mar/2025 20:57:43] \"GET /books HTTP/1.1\" 200 -\n",
            "192.168.56.1 - - [15/Mar/2025 20:57:43] \"GET /books HTTP/1.1\" 200 -\n",
            "192.168.56.1 - - [15/Mar/2025 20:57:43] \"GET /books HTTP/1.1\" 200 -\n"
          ]
        },
        {
          "name": "stdout",
          "output_type": "stream",
          "text": [
            "Error: Attempt to add duplicate book\n"
          ]
        },
        {
          "name": "stderr",
          "output_type": "stream",
          "text": [
            "192.168.56.1 - - [15/Mar/2025 20:58:02] \"POST /reset HTTP/1.1\" 200 -\n",
            "192.168.56.1 - - [15/Mar/2025 20:58:02] \"POST /books HTTP/1.1\" 201 -\n",
            "192.168.56.1 - - [15/Mar/2025 20:58:02] \"POST /books HTTP/1.1\" 400 -\n",
            "192.168.56.1 - - [15/Mar/2025 20:58:02] \"POST /books HTTP/1.1\" 201 -\n",
            "192.168.56.1 - - [15/Mar/2025 20:58:02] \"POST /books HTTP/1.1\" 201 -\n",
            "192.168.56.1 - - [15/Mar/2025 20:58:02] \"GET /books HTTP/1.1\" 200 -\n",
            "192.168.56.1 - - [15/Mar/2025 20:58:02] \"GET /books HTTP/1.1\" 200 -\n",
            "192.168.56.1 - - [15/Mar/2025 20:58:02] \"GET /books HTTP/1.1\" 200 -\n"
          ]
        },
        {
          "name": "stdout",
          "output_type": "stream",
          "text": [
            "Error: Attempt to add duplicate book\n"
          ]
        },
        {
          "name": "stderr",
          "output_type": "stream",
          "text": [
            "192.168.56.1 - - [15/Mar/2025 20:58:26] \"POST /reset HTTP/1.1\" 200 -\n",
            "192.168.56.1 - - [15/Mar/2025 20:58:26] \"POST /books HTTP/1.1\" 201 -\n",
            "192.168.56.1 - - [15/Mar/2025 20:58:26] \"POST /books HTTP/1.1\" 400 -\n",
            "192.168.56.1 - - [15/Mar/2025 20:58:26] \"POST /books HTTP/1.1\" 201 -\n",
            "192.168.56.1 - - [15/Mar/2025 20:58:26] \"POST /books HTTP/1.1\" 201 -\n",
            "192.168.56.1 - - [15/Mar/2025 20:58:26] \"GET /books HTTP/1.1\" 200 -\n",
            "192.168.56.1 - - [15/Mar/2025 20:58:26] \"GET /books HTTP/1.1\" 200 -\n",
            "192.168.56.1 - - [15/Mar/2025 20:58:26] \"GET /books HTTP/1.1\" 200 -\n"
          ]
        },
        {
          "name": "stdout",
          "output_type": "stream",
          "text": [
            "Error: Attempt to add duplicate book\n"
          ]
        },
        {
          "name": "stderr",
          "output_type": "stream",
          "text": [
            "192.168.56.1 - - [15/Mar/2025 20:58:39] \"POST /reset HTTP/1.1\" 200 -\n",
            "192.168.56.1 - - [15/Mar/2025 20:58:39] \"POST /users HTTP/1.1\" 201 -\n",
            "192.168.56.1 - - [15/Mar/2025 20:58:39] \"POST /users HTTP/1.1\" 400 -\n",
            "192.168.56.1 - - [15/Mar/2025 20:58:39] \"GET /users HTTP/1.1\" 200 -\n",
            "192.168.56.1 - - [15/Mar/2025 20:58:39] \"GET /users HTTP/1.1\" 200 -\n",
            "192.168.56.1 - - [15/Mar/2025 20:58:39] \"POST /users HTTP/1.1\" 201 -\n",
            "192.168.56.1 - - [15/Mar/2025 20:58:39] \"GET /users HTTP/1.1\" 200 -\n"
          ]
        },
        {
          "name": "stdout",
          "output_type": "stream",
          "text": [
            "Error: Attempt to add duplicate user\n"
          ]
        },
        {
          "name": "stderr",
          "output_type": "stream",
          "text": [
            "192.168.56.1 - - [15/Mar/2025 20:58:50] \"POST /reset HTTP/1.1\" 200 -\n",
            "192.168.56.1 - - [15/Mar/2025 20:58:50] \"POST /books HTTP/1.1\" 201 -\n",
            "192.168.56.1 - - [15/Mar/2025 20:58:50] \"POST /books HTTP/1.1\" 400 -\n",
            "192.168.56.1 - - [15/Mar/2025 20:58:50] \"POST /books HTTP/1.1\" 201 -\n",
            "192.168.56.1 - - [15/Mar/2025 20:58:50] \"POST /books HTTP/1.1\" 201 -\n",
            "192.168.56.1 - - [15/Mar/2025 20:58:50] \"GET /books HTTP/1.1\" 200 -\n",
            "192.168.56.1 - - [15/Mar/2025 20:58:50] \"GET /books HTTP/1.1\" 200 -\n",
            "192.168.56.1 - - [15/Mar/2025 20:58:50] \"GET /books HTTP/1.1\" 200 -\n"
          ]
        },
        {
          "name": "stdout",
          "output_type": "stream",
          "text": [
            "Error: Attempt to add duplicate book\n"
          ]
        },
        {
          "name": "stderr",
          "output_type": "stream",
          "text": [
            "192.168.56.1 - - [15/Mar/2025 20:59:22] \"POST /reset HTTP/1.1\" 200 -\n",
            "192.168.56.1 - - [15/Mar/2025 20:59:23] \"POST /books HTTP/1.1\" 201 -\n",
            "192.168.56.1 - - [15/Mar/2025 20:59:23] \"POST /books HTTP/1.1\" 400 -\n",
            "192.168.56.1 - - [15/Mar/2025 20:59:23] \"POST /books HTTP/1.1\" 201 -\n",
            "192.168.56.1 - - [15/Mar/2025 20:59:23] \"POST /books HTTP/1.1\" 201 -\n",
            "192.168.56.1 - - [15/Mar/2025 20:59:23] \"GET /books HTTP/1.1\" 200 -\n",
            "192.168.56.1 - - [15/Mar/2025 20:59:23] \"GET /books HTTP/1.1\" 200 -\n",
            "192.168.56.1 - - [15/Mar/2025 20:59:23] \"GET /books HTTP/1.1\" 200 -\n"
          ]
        },
        {
          "name": "stdout",
          "output_type": "stream",
          "text": [
            "Error: Attempt to add duplicate book\n"
          ]
        },
        {
          "name": "stderr",
          "output_type": "stream",
          "text": [
            "192.168.56.1 - - [15/Mar/2025 21:00:38] \"POST /reset HTTP/1.1\" 200 -\n",
            "192.168.56.1 - - [15/Mar/2025 21:00:38] \"POST /books HTTP/1.1\" 201 -\n",
            "192.168.56.1 - - [15/Mar/2025 21:00:38] \"POST /books HTTP/1.1\" 400 -\n",
            "192.168.56.1 - - [15/Mar/2025 21:00:38] \"POST /books HTTP/1.1\" 201 -\n",
            "192.168.56.1 - - [15/Mar/2025 21:00:38] \"POST /books HTTP/1.1\" 201 -\n",
            "192.168.56.1 - - [15/Mar/2025 21:00:38] \"GET /books HTTP/1.1\" 200 -\n",
            "192.168.56.1 - - [15/Mar/2025 21:00:38] \"GET /books HTTP/1.1\" 200 -\n",
            "192.168.56.1 - - [15/Mar/2025 21:00:38] \"GET /books HTTP/1.1\" 200 -\n"
          ]
        },
        {
          "name": "stdout",
          "output_type": "stream",
          "text": [
            "Error: Attempt to add duplicate book\n"
          ]
        }
      ],
      "source": [
        "import socket\n",
        "import random\n",
        "\n",
        "host = socket.gethostbyname(socket.gethostname())\n",
        "print(f\"{host=}\")\n",
        "\n",
        "port = random.randint(1024, 65535)\n",
        "url = f\"http://{host}:{port}\"\n",
        "\n",
        "threading.Thread(target=app.run, kwargs={'host':host,'port':port}).start()\n"
      ]
    },
    {
      "cell_type": "markdown",
      "metadata": {},
      "source": [
        "## A reset script that runs before each test"
      ]
    },
    {
      "cell_type": "markdown",
      "metadata": {},
      "source": [
        "The file `reset.py` is a simple Python script that resets the system under test (SUT) to a known state. We will use Provengoe's `--before` command line argument to run this script before each test.\n"
      ]
    },
    {
      "cell_type": "code",
      "execution_count": 38,
      "metadata": {},
      "outputs": [],
      "source": [
        "import platform\n",
        "\n",
        "\n",
        "# Write the reset.py script\n",
        "with open(\"reset.py\", \"w\") as f:\n",
        "    f.write(f\"\"\"\\\n",
        "import requests\n",
        "test_data = {{\n",
        "    'users': [{{ 'id': 1, 'name': 'Test User' }}],\n",
        "    'books': {{'1': {{ 'id': '1', 'title': 'Test Book' }}}}\n",
        "}}\n",
        "requests.post('{url}/reset', json=test_data)\n",
        "\"\"\")\n",
        "\n",
        "# A hack to run reset on linux because the space in \"python reset.py\" is not allowed\n",
        "if platform.system() != \"Windows\":\n",
        "    !echo '#!/bin/bash' > before_script.sh\n",
        "    !echo 'python reset.py' >> before_script.sh\n",
        "    !chmod +x before_script.sh"
      ]
    },
    {
      "cell_type": "markdown",
      "metadata": {
        "id": "MeJqk5zMjm45"
      },
      "source": [
        "# Test model"
      ]
    },
    {
      "cell_type": "markdown",
      "metadata": {},
      "source": [
        "## Creating a new empty model"
      ]
    },
    {
      "cell_type": "markdown",
      "metadata": {},
      "source": [
        "We first create a new test model called `BookStoreDemo` by running the following command:\n"
      ]
    },
    {
      "cell_type": "code",
      "execution_count": 39,
      "metadata": {
        "colab": {
          "base_uri": "https://localhost:8080/"
        },
        "id": "KCgXSJEMIOc9",
        "outputId": "5351653e-4f52-47b0-cb63-8f9c88552ce3"
      },
      "outputs": [
        {
          "name": "stdout",
          "output_type": "stream",
          "text": [
            "        / /\n",
            "     /\\/ /   ____\n",
            "  /\\/ /\\/ / |  _ \\ _ __  _____   __ ___  _ __   __ _  ___\n",
            " /  \\/\\/\\/  | |_) | '__|/ _ \\ \\ / // _ \\| '_ \\ / _` |/ _ \\\n",
            " \\  /\\/\\/\\  |  __/| |  | (_) \\ V /|  __/| | | | (_| | (_) |\n",
            "  \\/\\ \\/\\ \\ |_|   |_|   \\___/ \\_/  \\___||_| |_|\\__, |\\___/\n",
            "     \\/\\ \\                                     |___/\n",
            "        \\ \\\n",
            "\n",
            "[SETUP] INFO We'd love to hear from you! visit https://provengo.tech/feedback/\n",
            "[SETUP] ERR c:\\temp\\ProvengoDemo\\BookStoreDemo Folder already exist. delete the existing folder or create new project with new name.\n",
            "[Main ] ERR Terminating because of previous errors. See logs.\n",
            "[Main ] ERR 40 BadRequest\n"
          ]
        }
      ],
      "source": [
        "!provengo --batch-mode create BookStoreDemo"
      ]
    },
    {
      "cell_type": "markdown",
      "metadata": {},
      "source": [
        "## Adding file containing general test information"
      ]
    },
    {
      "cell_type": "markdown",
      "metadata": {},
      "source": [
        "An effective way to set gloabl parameters to the testing model is to use a file that contains general test information. This file can be imported into the test model and used to set global parameters. In this example, we will use a file called `_constatnts.py` to set the global parameters `host` and `port`. This parameters will be available to all our scriptss."
      ]
    },
    {
      "cell_type": "code",
      "execution_count": 40,
      "metadata": {
        "id": "C3W6SvauA0K0",
        "vscode": {
          "languageId": "javascript"
        }
      },
      "outputs": [],
      "source": [
        "with open(\"BookStoreDemo/spec/js/_constants.js\", \"w\") as f:\n",
        "  f.write(f\"const {host=}; const {port=};\")"
      ]
    },
    {
      "cell_type": "markdown",
      "metadata": {},
      "source": [
        "## Adding interface function to simplify the test scripts"
      ]
    },
    {
      "cell_type": "markdown",
      "metadata": {},
      "source": [
        "We will add a file called `interface.py` that contains functions that will be used to simplify the test scripts. This function will be used to make HTTP requests to the SUT. These are just simple wrapper function that hide the unneccesary details of making HTTP requests."
      ]
    },
    {
      "cell_type": "code",
      "execution_count": 41,
      "metadata": {
        "vscode": {
          "languageId": "javascript"
        }
      },
      "outputs": [
        {
          "name": "stdout",
          "output_type": "stream",
          "text": [
            "Overwriting BookStoreDemo//spec//js//interface.js\n"
          ]
        }
      ],
      "source": [
        "%%writefile BookStoreDemo//spec//js//interface.js\n",
        "\n",
        "const svc = new RESTSession(\"http://\" + host + \":\" + port, \"provengo basedclient\", {\n",
        "    headers: { \"Content-Type\": \"application/json\" }\n",
        "});\n",
        "\n",
        "// Add a book to the store\n",
        "function addBook(id, title) {\n",
        "    svc.post(\"/books\", { body: JSON.stringify({ id: id, title: title, }), });\n",
        "}\n",
        "\n",
        "// Add a user to the store\n",
        "function addUser(id, name) {\n",
        "    svc.post(\"/users\", { body: JSON.stringify({ id: id, name: name, }), });\n",
        "}\n",
        "\n",
        "// Try to add a book that already exists\n",
        "function tryToAddExistingBook(id, title) {\n",
        "    svc.post(\"/books\", {\n",
        "        body: JSON.stringify({ id: id, title: title }),\n",
        "        expectedResponseCodes: [400]\n",
        "    });\n",
        "}\n",
        "\n",
        "// Try to add a user that already exists\n",
        "function tryToAddExistingUser(id, name) {\n",
        "    svc.post(\"/users\", {\n",
        "        body: JSON.stringify({ id: id, name: name }),\n",
        "        expectedResponseCodes: [400]\n",
        "    });\n",
        "}\n",
        "\n",
        "// Verify that a user exists\n",
        "function verifyUserExists(id, name) {\n",
        "    svc.get(\"/users\", {\n",
        "        callback: function (response) {\n",
        "            user = JSON.parse(response.body);\n",
        "            for (let i = 0; i < user.length; i++) {\n",
        "                if (user[i].id === id && user[i].name === name) {\n",
        "                    return pvg.success(\"User exists\");\n",
        "                }\n",
        "            }\n",
        "            return pvg.fail(\"Expected a user to exists but it does not\");\n",
        "        }\n",
        "    });\n",
        "}\n",
        "\n",
        "// Verify that a user does not exist\n",
        "function verifyUserDoesNotExist(id, name) {\n",
        "    svc.get(\"/users\", {\n",
        "        callback: function (response) {\n",
        "            user = JSON.parse(response.body);\n",
        "            for (let i = 0; i < user.length; i++) {\n",
        "                if (user[i].id === id && user[i].name === name) {\n",
        "                    return pvg.fail(\"Expected a user to not exist but it does\");\n",
        "                }\n",
        "            }\n",
        "            return pvg.success(\"User does not exist\");\n",
        "        }\n",
        "    });\n",
        "}\n",
        "\n",
        "\n",
        "// Verify that a book exists\n",
        "function verifyBookExists(id, title) {\n",
        "    svc.get(\"/books\", {\n",
        "        callback: function (response) {\n",
        "            book = JSON.parse(response.body);\n",
        "            for (let i = 0; i < book.length; i++) {\n",
        "                if (book[i].id === id && book[i].title === title) {\n",
        "                    return pvg.success(\"Book exists\");\n",
        "                }\n",
        "            }\n",
        "            return pvg.fail(\"Expected a book to exists but it does not\");\n",
        "        }\n",
        "    });\n",
        "}\n",
        "\n",
        "// Verify that a book does not exist\n",
        "function verifyBookDoesNotExist(id, title) {\n",
        "    svc.get(\"/books\", {\n",
        "        callback: function (response) {\n",
        "            book = JSON.parse(response.body);\n",
        "            for (let i = 0; i < book.length; i++) {\n",
        "                if (book[i].id === id && book[i].title === title) {\n",
        "                    return pvg.fail(\"Expected a book to not exist but it does\");\n",
        "                }\n",
        "            }\n",
        "            return pvg.success(\"Book does not exist\");\n",
        "        }\n",
        "    });\n",
        "}"
      ]
    },
    {
      "cell_type": "markdown",
      "metadata": {},
      "source": [
        "## Writing our first (linear) test scripts"
      ]
    },
    {
      "cell_type": "markdown",
      "metadata": {},
      "source": [
        "Our first test script is a standard sequence of HTTP requests that tests the basic functionality of the SUT. The script,  called `hello_world.js`, is shown below:"
      ]
    },
    {
      "cell_type": "code",
      "execution_count": 48,
      "metadata": {
        "colab": {
          "base_uri": "https://localhost:8080/"
        },
        "id": "WBSyW0OKjwig",
        "outputId": "cbccbb7e-569f-4635-c4e2-53a17fb5cc30",
        "vscode": {
          "languageId": "javascript"
        }
      },
      "outputs": [
        {
          "name": "stdout",
          "output_type": "stream",
          "text": [
            "Overwriting BookStoreDemo/spec/js/hello-world.js\n"
          ]
        }
      ],
      "source": [
        "%%writefile BookStoreDemo/spec/js/hello-world.js\n",
        "\n",
        "bthread(\"User API\", function () {\n",
        "  addUser(111, \"John Doe\");\n",
        "  tryToAddExistingUser(111, \"John Doe\");\n",
        "  verifyUserExists(111, \"John Doe\");\n",
        "  verifyUserDoesNotExist(222, \"Jane Doe\");\n",
        "  addUser(222, \"John Doe\");\n",
        "  verifyUserExists(222, \"John Doe\");\n",
        "});"
      ]
    },
    {
      "cell_type": "code",
      "execution_count": 49,
      "metadata": {
        "vscode": {
          "languageId": "javascript"
        }
      },
      "outputs": [
        {
          "name": "stdout",
          "output_type": "stream",
          "text": [
            "        / /\n",
            "     /\\/ /   ____\n",
            "  /\\/ /\\/ / |  _ \\ _ __  _____   __ ___  _ __   __ _  ___\n",
            " /  \\/\\/\\/  | |_) | '__|/ _ \\ \\ / // _ \\| '_ \\ / _` |/ _ \\\n",
            " \\  /\\/\\/\\  |  __/| |  | (_) \\ V /|  __/| | | | (_| | (_) |\n",
            "  \\/\\ \\/\\ \\ |_|   |_|   \\___/ \\_/  \\___||_| |_|\\__, |\\___/\n",
            "     \\/\\ \\                                     |___/\n",
            "        \\ \\\n",
            "\n",
            "[SETUP] INFO We'd love to hear from you! visit https://provengo.tech/feedback/\n",
            "[SETUP] INFO Input path: c:\\temp\\ProvengoDemo\\BookStoreDemo\n",
            "[RUN  ] INFO Preparing to run the model\n",
            "[RUN>BUILD] INFO interface.js: Library 'REST' summoned automatically. Add \"//@provengo summon rest\" to the top of the file to explicitly summon it. Set the auto-summon configuration key to false to disable this behavior\n",
            "[RUN>random>Before Test] INFO Running Before Test command: python reset.py\n",
            "[RUN>random>Before Test] INFO Done running Before Test command: python reset.py\n",
            "[RUN>random] INFO B-program started\n",
            "[RUN>random] INFO Selected: [POST {JS_Obj lib:\"REST\", method:\"POST\", url:\"http://192.168.56.1:25221/users\", headers:{JS_Obj Content-Type:\"application/json\"}, parameters:{JS_Obj }, expectedResponseCodes:[JS_Array ], callback:{JS_Obj }, body:\"{\"id\":111,\"name\":\"John Doe\"}\"}]\n",
            "[RUN>random] INFO Selected: [POST {JS_Obj lib:\"REST\", method:\"POST\", url:\"http://192.168.56.1:25221/users\", headers:{JS_Obj Content-Type:\"application/json\"}, parameters:{JS_Obj }, expectedResponseCodes:[JS_Array 0:400.0], callback:{JS_Obj }, body:\"{\"id\":111,\"name\":\"John Doe\"}\"}]\n",
            "[RUN>random] INFO Selected: [GET {JS_Obj lib:\"REST\", method:\"GET\", url:\"http://192.168.56.1:25221/users\", headers:{JS_Obj Content-Type:\"application/json\"}, parameters:{JS_Obj }, expectedResponseCodes:[JS_Array ], callback:{JS_Obj }}]\n",
            "[RUN>random] INFO Selected: [GET {JS_Obj lib:\"REST\", method:\"GET\", url:\"http://192.168.56.1:25221/users\", headers:{JS_Obj Content-Type:\"application/json\"}, parameters:{JS_Obj }, expectedResponseCodes:[JS_Array ], callback:{JS_Obj }}]\n",
            "[RUN>random] INFO Selected: [POST {JS_Obj lib:\"REST\", method:\"POST\", url:\"http://192.168.56.1:25221/users\", headers:{JS_Obj Content-Type:\"application/json\"}, parameters:{JS_Obj }, expectedResponseCodes:[JS_Array ], callback:{JS_Obj }, body:\"{\"id\":222,\"name\":\"John Doe\"}\"}]\n",
            "[RUN>random] INFO Selected: [GET {JS_Obj lib:\"REST\", method:\"GET\", url:\"http://192.168.56.1:25221/users\", headers:{JS_Obj Content-Type:\"application/json\"}, parameters:{JS_Obj }, expectedResponseCodes:[JS_Array ], callback:{JS_Obj }}]\n",
            "[RUN  ] INFO Test Result: SUCCESS\n"
          ]
        }
      ],
      "source": [
        "if platform.system() == \"Windows\":\n",
        "    !provengo run BookStoreDemo --before=\"python reset.py\" \n",
        "else:\n",
        "    !provengo run BookStoreDemo --before=./before_script.sh"
      ]
    },
    {
      "cell_type": "markdown",
      "metadata": {},
      "source": [
        "We can create other scripts that test other parts of the SUT. For example, we can test book iterfae as shown below:"
      ]
    },
    {
      "cell_type": "code",
      "execution_count": 58,
      "metadata": {
        "vscode": {
          "languageId": "javascript"
        }
      },
      "outputs": [
        {
          "name": "stdout",
          "output_type": "stream",
          "text": [
            "Overwriting BookStoreDemo/spec/js/hello-world.js\n"
          ]
        }
      ],
      "source": [
        "%%writefile BookStoreDemo/spec/js/hello-world.js\n",
        "bthread(\"Book API\", function () {\n",
        "    addBook(111, \"The Great Gatsby\"); \n",
        "    tryToAddExistingBook(111, \"The Great Gatsby\");\n",
        "    addBook(222, \"The Catcher in the Rye\");\n",
        "    addBook(333, \"The Catcher in the Rye\");\n",
        "    verifyBookExists(111, \"The Great Gatsby\");\n",
        "    verifyBookExists(222, \"The Catcher in the Rye\");\n",
        "    verifyBookDoesNotExist(444, \"Harry Potter\");\n",
        "});\n"
      ]
    },
    {
      "cell_type": "code",
      "execution_count": 59,
      "metadata": {
        "vscode": {
          "languageId": "javascript"
        }
      },
      "outputs": [
        {
          "name": "stdout",
          "output_type": "stream",
          "text": [
            "        / /\n",
            "     /\\/ /   ____\n",
            "  /\\/ /\\/ / |  _ \\ _ __  _____   __ ___  _ __   __ _  ___\n",
            " /  \\/\\/\\/  | |_) | '__|/ _ \\ \\ / // _ \\| '_ \\ / _` |/ _ \\\n",
            " \\  /\\/\\/\\  |  __/| |  | (_) \\ V /|  __/| | | | (_| | (_) |\n",
            "  \\/\\ \\/\\ \\ |_|   |_|   \\___/ \\_/  \\___||_| |_|\\__, |\\___/\n",
            "     \\/\\ \\                                     |___/\n",
            "        \\ \\\n",
            "\n",
            "[SETUP] INFO We'd love to hear from you! visit https://provengo.tech/feedback/\n",
            "[SETUP] INFO Input path: c:\\temp\\ProvengoDemo\\BookStoreDemo\n",
            "[RUN  ] INFO Preparing to run the model\n",
            "[RUN>BUILD] INFO interface.js: Library 'REST' summoned automatically. Add \"//@provengo summon rest\" to the top of the file to explicitly summon it. Set the auto-summon configuration key to false to disable this behavior\n",
            "[RUN>random>Before Test] INFO Running Before Test command: python reset.py\n",
            "[RUN>random>Before Test] INFO Done running Before Test command: python reset.py\n",
            "[RUN>random] INFO B-program started\n",
            "[RUN>random] INFO Selected: [POST {JS_Obj lib:\"REST\", method:\"POST\", url:\"http://192.168.56.1:25221/books\", headers:{JS_Obj Content-Type:\"application/json\"}, parameters:{JS_Obj }, expectedResponseCodes:[JS_Array ], callback:{JS_Obj }, body:\"{\"id\":111,\"title\":\"The Great Gatsby\"}\"}]\n",
            "[RUN>random] INFO Selected: [POST {JS_Obj lib:\"REST\", method:\"POST\", url:\"http://192.168.56.1:25221/books\", headers:{JS_Obj Content-Type:\"application/json\"}, parameters:{JS_Obj }, expectedResponseCodes:[JS_Array 0:400.0], callback:{JS_Obj }, body:\"{\"id\":111,\"title\":\"The Great Gatsby\"}\"}]\n",
            "[RUN>random] INFO Selected: [POST {JS_Obj lib:\"REST\", method:\"POST\", url:\"http://192.168.56.1:25221/books\", headers:{JS_Obj Content-Type:\"application/json\"}, parameters:{JS_Obj }, expectedResponseCodes:[JS_Array ], callback:{JS_Obj }, body:\"{\"id\":222,\"title\":\"The Catcher in the Rye\"}\"}]\n",
            "[RUN>random] INFO Selected: [POST {JS_Obj lib:\"REST\", method:\"POST\", url:\"http://192.168.56.1:25221/books\", headers:{JS_Obj Content-Type:\"application/json\"}, parameters:{JS_Obj }, expectedResponseCodes:[JS_Array ], callback:{JS_Obj }, body:\"{\"id\":333,\"title\":\"The Catcher in the Rye\"}\"}]\n",
            "[RUN>random] INFO Selected: [GET {JS_Obj lib:\"REST\", method:\"GET\", url:\"http://192.168.56.1:25221/books\", headers:{JS_Obj Content-Type:\"application/json\"}, parameters:{JS_Obj }, expectedResponseCodes:[JS_Array ], callback:{JS_Obj }}]\n",
            "[RUN>random] INFO Selected: [GET {JS_Obj lib:\"REST\", method:\"GET\", url:\"http://192.168.56.1:25221/books\", headers:{JS_Obj Content-Type:\"application/json\"}, parameters:{JS_Obj }, expectedResponseCodes:[JS_Array ], callback:{JS_Obj }}]\n",
            "[RUN>random] INFO Selected: [GET {JS_Obj lib:\"REST\", method:\"GET\", url:\"http://192.168.56.1:25221/books\", headers:{JS_Obj Content-Type:\"application/json\"}, parameters:{JS_Obj }, expectedResponseCodes:[JS_Array ], callback:{JS_Obj }}]\n",
            "[RUN  ] INFO Test Result: SUCCESS\n"
          ]
        }
      ],
      "source": [
        "if platform.system() == \"Windows\":\n",
        "    !provengo run BookStoreDemo --before=\"python reset.py\" \n",
        "else:\n",
        "    !provengo run BookStoreDemo --before=./before_script.sh"
      ]
    },
    {
      "cell_type": "markdown",
      "metadata": {},
      "source": [
        "## Interleaving two scenarios"
      ]
    },
    {
      "cell_type": "code",
      "execution_count": null,
      "metadata": {
        "vscode": {
          "languageId": "javascript"
        }
      },
      "outputs": [],
      "source": [
        "%%writefile BookStoreDemo/spec/js/hello-world.js\n",
        "\n",
        "bthread(\"Book API\", function () {\n",
        "    addBook(111, \"The Great Gatsby\"); \n",
        "    tryToAddExistingBook(111, \"The Great Gatsby\");\n",
        "    addBook(222, \"The Catcher in the Rye\");\n",
        "    addBook(333, \"The Catcher in the Rye\");\n",
        "    verifyBookExists(111, \"The Great Gatsby\");\n",
        "    verifyBookExists(222, \"The Catcher in the Rye\");\n",
        "    verifyBookDoesNotExist(444, \"Harry Potter\");\n",
        "});\n",
        "\n",
        "\n",
        "bthread(\"User API\", function () {\n",
        "  addUser(111, \"John Doe\");\n",
        "  tryToAddExistingUser(111, \"John Doe\");\n",
        "  verifyUserExists(111, \"John Doe\");\n",
        "  verifyUserDoesNotExist(222, \"Jane Doe\");\n",
        "  addUser(222, \"John Doe\");\n",
        "  verifyUserExists(222, \"John Doe\");\n",
        "});"
      ]
    },
    {
      "cell_type": "code",
      "execution_count": null,
      "metadata": {
        "vscode": {
          "languageId": "javascript"
        }
      },
      "outputs": [],
      "source": [
        "if platform.system() == \"Windows\":\n",
        "    !provengo run BookStoreDemo --before=\"python reset.py\" \n",
        "else:\n",
        "    !provengo run BookStoreDemo --before=./before_script.sh"
      ]
    }
  ],
  "metadata": {
    "colab": {
      "collapsed_sections": [
        "T1xDaG9DihN3",
        "0I5Qp2RBLz1C"
      ],
      "include_colab_link": true,
      "provenance": []
    },
    "kernelspec": {
      "display_name": "Python 3",
      "name": "python3"
    },
    "language_info": {
      "codemirror_mode": {
        "name": "ipython",
        "version": 3
      },
      "file_extension": ".py",
      "mimetype": "text/x-python",
      "name": "python",
      "nbconvert_exporter": "python",
      "pygments_lexer": "ipython3",
      "version": "3.11.0"
    }
  },
  "nbformat": 4,
  "nbformat_minor": 0
}
