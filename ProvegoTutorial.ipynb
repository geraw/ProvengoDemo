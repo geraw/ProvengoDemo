{
  "cells": [
    {
      "cell_type": "markdown",
      "metadata": {
        "id": "view-in-github",
        "colab_type": "text"
      },
      "source": [
        "<a href=\"https://colab.research.google.com/github/geraw/ProvengoDemo/blob/main/ProvegoTutorial.ipynb\" target=\"_parent\"><img src=\"https://colab.research.google.com/assets/colab-badge.svg\" alt=\"Open In Colab\"/></a>"
      ]
    },
    {
      "cell_type": "markdown",
      "source": [
        "# Installation"
      ],
      "metadata": {
        "id": "T1xDaG9DihN3"
      }
    },
    {
      "cell_type": "code",
      "source": [
        "!wget -nc https://downloads.provengo.tech/unix-dist/deb/Provengo-deb.deb\n",
        "!apt-get install ./Provengo-deb.deb"
      ],
      "metadata": {
        "colab": {
          "base_uri": "https://localhost:8080/"
        },
        "id": "S-IoNKf8iMtv",
        "outputId": "32064e8b-5ac9-4b50-acd2-bee9dd79d8b0"
      },
      "execution_count": null,
      "outputs": [
        {
          "output_type": "stream",
          "name": "stdout",
          "text": [
            "File ‘Provengo-deb.deb’ already there; not retrieving.\n",
            "\n",
            "Reading package lists... Done\n",
            "Building dependency tree... Done\n",
            "Reading state information... Done\n",
            "Note, selecting 'provengo' instead of './Provengo-deb.deb'\n",
            "provengo is already the newest version (0.7.5-SNAPSHOT).\n",
            "0 upgraded, 0 newly installed, 0 to remove and 29 not upgraded.\n"
          ]
        }
      ]
    },
    {
      "cell_type": "markdown",
      "source": [
        "# System Under Test"
      ],
      "metadata": {
        "id": "VpT8L567hVaI"
      }
    },
    {
      "cell_type": "code",
      "source": [
        "import socket\n",
        "import random\n",
        "\n",
        "host = socket.gethostbyname(socket.gethostname())\n",
        "print(f\"{host=}\")"
      ],
      "metadata": {
        "colab": {
          "base_uri": "https://localhost:8080/"
        },
        "id": "1kPlL3NDQaF-",
        "outputId": "c6bfbf77-074b-4561-ee8d-54e42fd86b5a"
      },
      "execution_count": null,
      "outputs": [
        {
          "output_type": "stream",
          "name": "stdout",
          "text": [
            "host='172.28.0.12'\n"
          ]
        }
      ]
    },
    {
      "cell_type": "code",
      "source": [
        "from flask import Flask, request, jsonify\n",
        "import threading\n",
        "import time\n",
        "import os\n",
        "import sys\n",
        "import json\n",
        "import importlib\n",
        "import signal\n",
        "\n",
        "port = random.randint(1024, 65535)\n",
        "url = f\"http://{host}:{port}\"\n",
        "\n",
        "# Create Flask app\n",
        "app = Flask(__name__)\n",
        "#run_with_ngrok(app)  # Allows access from outside\n",
        "\n",
        "# In-memory data store (replace with a database in a real application)\n",
        "users = []\n",
        "loans = []\n",
        "holds = []\n",
        "books = {}\n",
        "\n",
        "# --- User Routes ---\n",
        "@app.route('/users', methods=['POST'])\n",
        "def add_user():\n",
        "    user = request.get_json()\n",
        "\n",
        "    if 'id' not in user:\n",
        "        return jsonify({'error': 'user id is required'}), 400\n",
        "    if  user.get('id') in [u.get('id') for u in users]:\n",
        "        return jsonify({'error': 'User already exists'}), 400\n",
        "    else:\n",
        "      users.append(user)\n",
        "      return jsonify({'message': 'User Added', 'user': user}), 201\n",
        "\n",
        "@app.route('/users/<int:user_id>', methods=['DELETE'])\n",
        "def delete_user(user_id):\n",
        "    global users\n",
        "    users = [user for user in users if user.get('id') != user_id]\n",
        "    return jsonify({'message': 'User deleted'}), 200\n",
        "\n",
        "@app.route('/users', methods=['GET'])\n",
        "def search_users():\n",
        "    query = request.args.get('q', '').lower()\n",
        "    results = [user for user in users if query in str(user).lower()] if query else users\n",
        "    return jsonify(results)\n",
        "\n",
        "# --- Loan Routes ---\n",
        "@app.route('/loans', methods=['POST'])\n",
        "def add_loan():\n",
        "    loan = request.get_json()\n",
        "    loans.append(loan)\n",
        "    return jsonify({'message': 'Loan added', 'loan': loan}), 201\n",
        "\n",
        "@app.route('/loans/<int:loan_id>', methods=['DELETE'])\n",
        "def delete_loan(loan_id):\n",
        "    global loans\n",
        "    loans = [loan for loan in loans if loan.get('id') != loan_id]\n",
        "    return jsonify({'message': 'Loan deleted'}), 200\n",
        "\n",
        "@app.route('/loans', methods=['GET'])\n",
        "def search_loans():\n",
        "    query = request.args.get('q', '').lower()\n",
        "    results = [loan for loan in loans if query in str(loan).lower()] if query else loans\n",
        "    return jsonify(results)\n",
        "\n",
        "# --- Hold Routes ---\n",
        "@app.route('/holds', methods=['POST'])\n",
        "def add_hold():\n",
        "    hold = request.get_json()\n",
        "    holds.append(hold)\n",
        "    return jsonify({'message': 'Hold added', 'hold': hold}), 201\n",
        "\n",
        "@app.route('/holds/<int:hold_id>', methods=['DELETE'])\n",
        "def delete_hold(hold_id):\n",
        "    global holds\n",
        "    holds = [hold for hold in holds if hold.get('id') != hold_id]\n",
        "    return jsonify({'message': 'Hold deleted'}), 200\n",
        "\n",
        "@app.route('/holds', methods=['GET'])\n",
        "def search_holds():\n",
        "    query = request.args.get('q', '').lower()\n",
        "    results = [hold for hold in holds if query in str(hold).lower()] if query else holds\n",
        "    return jsonify(results)\n",
        "\n",
        "# --- Book Routes ---\n",
        "@app.route('/books', methods=['GET', 'POST'])\n",
        "def manage_books():\n",
        "    if request.method == 'GET':\n",
        "        return jsonify(books)\n",
        "    elif request.method == 'POST':\n",
        "        book_data = request.get_json()\n",
        "        book_id = book_data.get('id')\n",
        "        if book_id:\n",
        "            books[book_id] = book_data\n",
        "            return jsonify({'message': 'Book added'}), 201\n",
        "        return jsonify({'error': 'Invalid book data'}), 400\n",
        "\n",
        "\n",
        "threading.Thread(target=app.run, kwargs={'host':host,'port':port}).start()\n"
      ],
      "metadata": {
        "colab": {
          "base_uri": "https://localhost:8080/"
        },
        "id": "AlsMhPMchZAw",
        "outputId": "d56b2ebf-23a9-4f81-ff26-e492d0321590"
      },
      "execution_count": null,
      "outputs": [
        {
          "output_type": "stream",
          "name": "stdout",
          "text": [
            " * Serving Flask app '__main__'\n"
          ]
        }
      ]
    },
    {
      "cell_type": "code",
      "source": [
        "import requests\n",
        "\n",
        "try:\n",
        "    response = requests.post(url+\"/users\", json = {\"id\": 225, \"name\": \"Dror\"})\n",
        "    response.raise_for_status()  # Raise an exception for bad status codes (4xx or 5xx)\n",
        "    print(\"Successfully accessed the server!\")\n",
        "    print(\"Response:\", response.json())\n",
        "except requests.exceptions.RequestException as e:\n",
        "    print(f\"Error accessing the server: {e}\")\n"
      ],
      "metadata": {
        "colab": {
          "base_uri": "https://localhost:8080/"
        },
        "id": "8LaFfGtXjzkK",
        "outputId": "983c9769-49b5-4234-8713-b7a8fcd70891"
      },
      "execution_count": null,
      "outputs": [
        {
          "output_type": "stream",
          "name": "stdout",
          "text": [
            " * Debug mode: off\n"
          ]
        },
        {
          "output_type": "stream",
          "name": "stderr",
          "text": [
            "INFO:werkzeug:\u001b[31m\u001b[1mWARNING: This is a development server. Do not use it in a production deployment. Use a production WSGI server instead.\u001b[0m\n",
            " * Running on http://172.28.0.12:41274\n",
            "INFO:werkzeug:\u001b[33mPress CTRL+C to quit\u001b[0m\n",
            "INFO:werkzeug:172.28.0.12 - - [11/Mar/2025 13:36:01] \"\u001b[35m\u001b[1mPOST /users HTTP/1.1\u001b[0m\" 201 -\n"
          ]
        },
        {
          "output_type": "stream",
          "name": "stdout",
          "text": [
            "Successfully accessed the server!\n",
            "Response: {'message': 'User Added', 'user': {'id': 225, 'name': 'Dror'}}\n"
          ]
        }
      ]
    },
    {
      "cell_type": "markdown",
      "source": [
        "# Test model"
      ],
      "metadata": {
        "id": "MeJqk5zMjm45"
      }
    },
    {
      "cell_type": "code",
      "source": [
        "!provengo --batch-mode create BookStoreDemo\n",
        "!rm /content/BookStoreDemo/spec/js/hello-world.js"
      ],
      "metadata": {
        "colab": {
          "base_uri": "https://localhost:8080/"
        },
        "id": "KCgXSJEMIOc9",
        "outputId": "d7eb50d5-5695-480f-cee2-8259c3a8550d"
      },
      "execution_count": null,
      "outputs": [
        {
          "output_type": "stream",
          "name": "stdout",
          "text": [
            "\u001b[34;1m        / / \u001b[0m\n",
            "\u001b[34;1m\u001b[0m\u001b[34;1m     /\\/ /  \u001b[0m\u001b[97;1m ____\u001b[0m\n",
            "\u001b[97;1m\u001b[0m\u001b[34;1m  /\\/ /\\/ / \u001b[0m\u001b[97;1m|  _ \\ _ __  _____   __ ___  _ __   __ _  ___\u001b[0m\n",
            "\u001b[97;1m\u001b[0m\u001b[34;1m /  \\/\\/\\/  \u001b[0m\u001b[97;1m| |_) | '__|/ _ \\ \\ / // _ \\| '_ \\ / _` |/ _ \\\u001b[0m\n",
            "\u001b[97;1m\u001b[0m\u001b[34;1m \\  /\\/\\/\\  \u001b[0m\u001b[97;1m|  __/| |  | (_) \\ V /|  __/| | | | (_| | (_) |\u001b[0m\n",
            "\u001b[97;1m\u001b[0m\u001b[34;1m  \\/\\ \\/\\ \\ \u001b[0m\u001b[97;1m|_|   |_|   \\___/ \\_/  \\___||_| |_|\\__, |\\___/\u001b[0m\n",
            "\u001b[97;1m\u001b[0m\u001b[34;1m     \\/\\ \\  \u001b[0m\u001b[97;1m                                   |___/\u001b[0m\n",
            "\u001b[97;1m\u001b[0m\u001b[34;1m        \\ \\ \u001b[0m\n",
            "\u001b[34;1m\u001b[0m\n",
            "13:36:03.591 \u001b[mINFO\u001b[0m [\u001b[33mSETUP\u001b[0m] We'd love to hear from you! hello@provengo.tech or https://provengo.tech/feedback/\n",
            "13:36:03.873 \u001b[33;41;1mERR \u001b[0m [\u001b[33mSETUP\u001b[0m] /content/BookStoreDemo Folder already exist. delete the existing folder or create new project with new name.\n",
            "13:36:03.874 \u001b[33;41;1mERR \u001b[0m [\u001b[33mMain\u001b[0m] Terminating because of previous errors. See logs.\n",
            "13:36:03.887 \u001b[33;41;1mERR \u001b[0m [\u001b[33mMain\u001b[0m] 40 BadRequest\n",
            "rm: cannot remove '/content/BookStoreDemo/spec/js/hello-world.js': No such file or directory\n"
          ]
        }
      ]
    },
    {
      "cell_type": "code",
      "source": [
        "import os\n",
        "\n",
        "with open(\"/content/BookStoreDemo/spec/js/_constants.js\", \"w\") as f:\n",
        "  f.write(f\"\"\"\n",
        "const {host=};\n",
        "const {port=};\n",
        "\"\"\")"
      ],
      "metadata": {
        "id": "C3W6SvauA0K0"
      },
      "execution_count": null,
      "outputs": []
    },
    {
      "cell_type": "code",
      "source": [
        "%%writefile /content/BookStoreDemo/spec/js/model.js\n",
        "\n",
        "const svc = new RESTSession(\"http://\"+host+\":\"+port, \"provengo basedclient\", {\n",
        "    headers: {\"Content-Type\":\"application/json\"}\n",
        "});\n",
        "\n",
        "\n",
        "function validation_func(response){\n",
        "  const respObj = JSON.parse(response.body);\n",
        "  if ( respObj.message != \"User Added\" ) {\n",
        "      pvg.fail(\"user creation failed: \" + respObj.message);\n",
        "  } else {\n",
        "      pvg.log.info(`response is: ${JSON.stringify(respObj)}`);\n",
        "  }\n",
        "}\n",
        "\n",
        "\n",
        "bthread(\"API User\", function(){\n",
        "    svc.get(\"/users\", {\n",
        "      callback: function(response){\n",
        "        const respObj = JSON.parse(response.body);\n",
        "        pvg.log.info(`response is: ${JSON.stringify(respObj)}`);\n",
        "      }\n",
        "    })\n",
        "\n",
        "    svc.post(\"/users\", {\n",
        "        body: JSON.stringify({\n",
        "            id: 111,\n",
        "            name: \"John Doe\",\n",
        "        }),\n",
        "        callback: validation_func\n",
        "    });\n",
        "\n",
        "    svc.get(\"/users\")\n",
        "});"
      ],
      "metadata": {
        "colab": {
          "base_uri": "https://localhost:8080/"
        },
        "id": "WBSyW0OKjwig",
        "outputId": "09767a00-f45e-47dd-e509-eb1e72fb0ebf"
      },
      "execution_count": null,
      "outputs": [
        {
          "output_type": "stream",
          "name": "stdout",
          "text": [
            "Overwriting /content/BookStoreDemo/spec/js/model.js\n"
          ]
        }
      ]
    },
    {
      "cell_type": "code",
      "source": [
        "!provengo run BookStoreDemo"
      ],
      "metadata": {
        "colab": {
          "base_uri": "https://localhost:8080/"
        },
        "id": "4uXI_u4XIKPV",
        "outputId": "462cb44f-73e8-4996-ebae-eef3fab0f8e6"
      },
      "execution_count": null,
      "outputs": [
        {
          "output_type": "stream",
          "name": "stdout",
          "text": [
            "\u001b[34;1m        / / \u001b[0m\n",
            "\u001b[34;1m\u001b[0m\u001b[34;1m     /\\/ /  \u001b[0m\u001b[97;1m ____\u001b[0m\n",
            "\u001b[97;1m\u001b[0m\u001b[34;1m  /\\/ /\\/ / \u001b[0m\u001b[97;1m|  _ \\ _ __  _____   __ ___  _ __   __ _  ___\u001b[0m\n",
            "\u001b[97;1m\u001b[0m\u001b[34;1m /  \\/\\/\\/  \u001b[0m\u001b[97;1m| |_) | '__|/ _ \\ \\ / // _ \\| '_ \\ / _` |/ _ \\\u001b[0m\n",
            "\u001b[97;1m\u001b[0m\u001b[34;1m \\  /\\/\\/\\  \u001b[0m\u001b[97;1m|  __/| |  | (_) \\ V /|  __/| | | | (_| | (_) |\u001b[0m\n",
            "\u001b[97;1m\u001b[0m\u001b[34;1m  \\/\\ \\/\\ \\ \u001b[0m\u001b[97;1m|_|   |_|   \\___/ \\_/  \\___||_| |_|\\__, |\\___/\u001b[0m\n",
            "\u001b[97;1m\u001b[0m\u001b[34;1m     \\/\\ \\  \u001b[0m\u001b[97;1m                                   |___/\u001b[0m\n",
            "\u001b[97;1m\u001b[0m\u001b[34;1m        \\ \\ \u001b[0m\n",
            "\u001b[34;1m\u001b[0m\n",
            "13:36:15.631 \u001b[mINFO\u001b[0m [\u001b[33mSETUP\u001b[0m] We'd love to hear from you! hello@provengo.tech or https://provengo.tech/feedback/\n",
            "13:36:15.680 \u001b[mINFO\u001b[0m [\u001b[33mSETUP\u001b[0m] Project path: /content/BookStoreDemo\n",
            "13:36:15.710 \u001b[mINFO\u001b[0m [\u001b[33mRUN\u001b[0m] Preparing to run\n",
            "13:36:16.023 \u001b[mINFO\u001b[0m [\u001b[33mRUN>BUILD\u001b[0m] model.js: Library 'REST' summoned automatically. Add \"//@provengo summon rest\" to the top of the file to explicitly summon it. Set the auto-summon configuration key to false to disable this behavior\n",
            "13:36:16.824 \u001b[mINFO\u001b[0m [\u001b[33mRUN>random\u001b[0m] B-program started\n",
            "13:36:16.921 \u001b[mINFO\u001b[0m [\u001b[33mRUN>random\u001b[0m] Selected: [\u001b[33mGET\u001b[0m \u001b[36m{lib:\"REST\", method:\"GET\", url:\"http://172.28.0.12:41274/users\", headers:{Content-Type:\"application/json\"}, parameters:{}, expectedResponseCodes:[], callback:{}}\u001b[0m]\n"
          ]
        },
        {
          "output_type": "stream",
          "name": "stderr",
          "text": [
            "INFO:werkzeug:172.28.0.12 - - [11/Mar/2025 13:36:17] \"GET /users HTTP/1.1\" 200 -\n"
          ]
        },
        {
          "output_type": "stream",
          "name": "stdout",
          "text": [
            "13:36:17.421 \u001b[mINFO\u001b[0m [\u001b[33mRUN>random\u001b[0m] response is: [{\"id\":225,\"name\":\"Dror\"}]\n"
          ]
        },
        {
          "output_type": "stream",
          "name": "stderr",
          "text": [
            "INFO:werkzeug:172.28.0.12 - - [11/Mar/2025 13:36:17] \"\u001b[35m\u001b[1mPOST /users HTTP/1.1\u001b[0m\" 201 -\n",
            "INFO:werkzeug:172.28.0.12 - - [11/Mar/2025 13:36:18] \"GET /users HTTP/1.1\" 200 -\n"
          ]
        },
        {
          "output_type": "stream",
          "name": "stdout",
          "text": [
            "13:36:17.842 \u001b[mINFO\u001b[0m [\u001b[33mRUN>random\u001b[0m] Selected: [\u001b[33mPOST\u001b[0m \u001b[36m{lib:\"REST\", method:\"POST\", url:\"http://172.28.0.12:41274/users\", headers:{Content-Type:\"application/json\"}, parameters:{}, expectedResponseCodes:[], callback:{}, body:\"{\"id\":111,\"name\":\"John Doe\"}\"}\u001b[0m]\n",
            "13:36:17.924 \u001b[mINFO\u001b[0m [\u001b[33mRUN>random\u001b[0m] response is: {\"message\":\"User Added\",\"user\":{\"id\":111,\"name\":\"John Doe\"}}\n",
            "13:36:18.008 \u001b[mINFO\u001b[0m [\u001b[33mRUN>random\u001b[0m] Selected: [\u001b[33mGET\u001b[0m \u001b[36m{lib:\"REST\", method:\"GET\", url:\"http://172.28.0.12:41274/users\", headers:{Content-Type:\"application/json\"}, parameters:{}, expectedResponseCodes:[], callback:{}}\u001b[0m]\n",
            "13:36:18.190 \u001b[mINFO\u001b[0m [\u001b[33mRUN\u001b[0m] Test Result: SUCCESS\n"
          ]
        }
      ]
    }
  ],
  "metadata": {
    "colab": {
      "collapsed_sections": [
        "T1xDaG9DihN3",
        "0I5Qp2RBLz1C"
      ],
      "provenance": [],
      "include_colab_link": true
    },
    "kernelspec": {
      "display_name": "Python 3",
      "name": "python3"
    },
    "language_info": {
      "name": "python"
    }
  },
  "nbformat": 4,
  "nbformat_minor": 0
}