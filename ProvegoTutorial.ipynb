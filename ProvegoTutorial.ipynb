{
  "cells": [
    {
      "cell_type": "markdown",
      "metadata": {
        "id": "view-in-github",
        "colab_type": "text"
      },
      "source": [
        "<a href=\"https://colab.research.google.com/github/geraw/ProvengoDemo/blob/main/ProvegoTutorial.ipynb\" target=\"_parent\"><img src=\"https://colab.research.google.com/assets/colab-badge.svg\" alt=\"Open In Colab\"/></a>"
      ]
    },
    {
      "cell_type": "markdown",
      "source": [
        "# Installation"
      ],
      "metadata": {
        "id": "T1xDaG9DihN3"
      }
    },
    {
      "cell_type": "code",
      "source": [
        "!wget -nc https://downloads.provengo.tech/unix-dist/deb/Provengo-deb.deb\n",
        "!apt-get install ./Provengo-deb.deb"
      ],
      "metadata": {
        "colab": {
          "base_uri": "https://localhost:8080/"
        },
        "id": "S-IoNKf8iMtv",
        "outputId": "571cab72-3eb3-4171-c79e-e1ccca482c20"
      },
      "execution_count": 2,
      "outputs": [
        {
          "output_type": "stream",
          "name": "stdout",
          "text": [
            "--2025-03-14 16:01:41--  https://downloads.provengo.tech/unix-dist/deb/Provengo-deb.deb\n",
            "Resolving downloads.provengo.tech (downloads.provengo.tech)... 104.145.235.209\n",
            "Connecting to downloads.provengo.tech (downloads.provengo.tech)|104.145.235.209|:443... connected.\n",
            "HTTP request sent, awaiting response... 200 OK\n",
            "Length: 80030242 (76M) [application/vnd.debian.binary-package]\n",
            "Saving to: ‘Provengo-deb.deb’\n",
            "\n",
            "Provengo-deb.deb    100%[===================>]  76.32M  36.3MB/s    in 2.1s    \n",
            "\n",
            "2025-03-14 16:01:43 (36.3 MB/s) - ‘Provengo-deb.deb’ saved [80030242/80030242]\n",
            "\n",
            "Reading package lists... Done\n",
            "Building dependency tree... Done\n",
            "Reading state information... Done\n",
            "Note, selecting 'provengo' instead of './Provengo-deb.deb'\n",
            "The following NEW packages will be installed:\n",
            "  provengo\n",
            "0 upgraded, 1 newly installed, 0 to remove and 29 not upgraded.\n",
            "Need to get 0 B/80.0 MB of archives.\n",
            "After this operation, 87.0 MB of additional disk space will be used.\n",
            "Get:1 /content/Provengo-deb.deb provengo all 0.7.5-SNAPSHOT [80.0 MB]\n",
            "Selecting previously unselected package provengo.\n",
            "(Reading database ... 124947 files and directories currently installed.)\n",
            "Preparing to unpack /content/Provengo-deb.deb ...\n",
            "Unpacking provengo (0.7.5-SNAPSHOT) ...\n",
            "Setting up provengo (0.7.5-SNAPSHOT) ...\n",
            "Processing triggers for mailcap (3.70+nmu1ubuntu1) ...\n"
          ]
        }
      ]
    },
    {
      "cell_type": "markdown",
      "source": [
        "# System Under Test"
      ],
      "metadata": {
        "id": "VpT8L567hVaI"
      }
    },
    {
      "cell_type": "code",
      "source": [
        "import socket\n",
        "import random\n",
        "\n",
        "host = socket.gethostbyname(socket.gethostname())\n",
        "print(f\"{host=}\")"
      ],
      "metadata": {
        "colab": {
          "base_uri": "https://localhost:8080/"
        },
        "id": "1kPlL3NDQaF-",
        "outputId": "8ad810e6-f1ae-4734-f401-6b750613366d"
      },
      "execution_count": 1,
      "outputs": [
        {
          "output_type": "stream",
          "name": "stdout",
          "text": [
            "host='172.28.0.12'\n"
          ]
        }
      ]
    },
    {
      "cell_type": "code",
      "source": [
        "from flask import Flask, request, jsonify\n",
        "import threading\n",
        "import time\n",
        "import os\n",
        "import sys\n",
        "import json\n",
        "import importlib\n",
        "import signal\n",
        "\n",
        "port = random.randint(1024, 65535)\n",
        "url = f\"http://{host}:{port}\"\n",
        "\n",
        "# Create Flask app\n",
        "app = Flask(__name__)\n",
        "#run_with_ngrok(app)  # Allows access from outside\n",
        "\n",
        "# In-memory data store (replace with a database in a real application)\n",
        "users = []\n",
        "loans = []\n",
        "holds = []\n",
        "books = {}\n",
        "\n",
        "# --- User Routes ---\n",
        "@app.route('/users', methods=['POST'])\n",
        "def add_user():\n",
        "    user = request.get_json()\n",
        "\n",
        "    if 'id' not in user:\n",
        "        return jsonify({'error': 'user id is required'}), 400\n",
        "    if  user.get('id') in [u.get('id') for u in users]:\n",
        "        return jsonify({'error': 'User already exists'}), 400\n",
        "    else:\n",
        "      users.append(user)\n",
        "      return jsonify({'message': 'User Added', 'user': user}), 201\n",
        "\n",
        "@app.route('/users/<int:user_id>', methods=['DELETE'])\n",
        "def delete_user(user_id):\n",
        "    global users\n",
        "    users = [user for user in users if user.get('id') != user_id]\n",
        "    return jsonify({'message': 'User deleted'}), 200\n",
        "\n",
        "@app.route('/users', methods=['GET'])\n",
        "def search_users():\n",
        "    query = request.args.get('q', '').lower()\n",
        "    results = [user for user in users if query in str(user).lower()] if query else users\n",
        "    return jsonify(results)\n",
        "\n",
        "# --- Loan Routes ---\n",
        "@app.route('/loans', methods=['POST'])\n",
        "def add_loan():\n",
        "    loan = request.get_json()\n",
        "    loans.append(loan)\n",
        "    return jsonify({'message': 'Loan added', 'loan': loan}), 201\n",
        "\n",
        "@app.route('/loans/<int:loan_id>', methods=['DELETE'])\n",
        "def delete_loan(loan_id):\n",
        "    global loans\n",
        "    loans = [loan for loan in loans if loan.get('id') != loan_id]\n",
        "    return jsonify({'message': 'Loan deleted'}), 200\n",
        "\n",
        "@app.route('/loans', methods=['GET'])\n",
        "def search_loans():\n",
        "    query = request.args.get('q', '').lower()\n",
        "    results = [loan for loan in loans if query in str(loan).lower()] if query else loans\n",
        "    return jsonify(results)\n",
        "\n",
        "# --- Hold Routes ---\n",
        "@app.route('/holds', methods=['POST'])\n",
        "def add_hold():\n",
        "    hold = request.get_json()\n",
        "    holds.append(hold)\n",
        "    return jsonify({'message': 'Hold added', 'hold': hold}), 201\n",
        "\n",
        "@app.route('/holds/<int:hold_id>', methods=['DELETE'])\n",
        "def delete_hold(hold_id):\n",
        "    global holds\n",
        "    holds = [hold for hold in holds if hold.get('id') != hold_id]\n",
        "    return jsonify({'message': 'Hold deleted'}), 200\n",
        "\n",
        "@app.route('/holds', methods=['GET'])\n",
        "def search_holds():\n",
        "    query = request.args.get('q', '').lower()\n",
        "    results = [hold for hold in holds if query in str(hold).lower()] if query else holds\n",
        "    return jsonify(results)\n",
        "\n",
        "# --- Book Routes ---\n",
        "@app.route('/books', methods=['GET', 'POST'])\n",
        "def manage_books():\n",
        "    if request.method == 'GET':\n",
        "        return jsonify(books)\n",
        "    elif request.method == 'POST':\n",
        "        book_data = request.get_json()\n",
        "        book_id = book_data.get('id')\n",
        "        if book_id:\n",
        "            books[book_id] = book_data\n",
        "            return jsonify({'message': 'Book added'}), 201\n",
        "        return jsonify({'error': 'Invalid book data'}), 400\n",
        "\n",
        "\n",
        "threading.Thread(target=app.run, kwargs={'host':host,'port':port}).start()\n"
      ],
      "metadata": {
        "colab": {
          "base_uri": "https://localhost:8080/"
        },
        "id": "AlsMhPMchZAw",
        "outputId": "42746c5a-e984-4bc7-9283-a028caa6cf25"
      },
      "execution_count": 3,
      "outputs": [
        {
          "output_type": "stream",
          "name": "stdout",
          "text": [
            " * Serving Flask app '__main__'\n",
            " * Debug mode: off\n"
          ]
        },
        {
          "output_type": "stream",
          "name": "stderr",
          "text": [
            "INFO:werkzeug:\u001b[31m\u001b[1mWARNING: This is a development server. Do not use it in a production deployment. Use a production WSGI server instead.\u001b[0m\n",
            " * Running on http://172.28.0.12:56350\n"
          ]
        }
      ]
    },
    {
      "cell_type": "code",
      "source": [
        "import requests\n",
        "\n",
        "try:\n",
        "    response = requests.post(url+\"/users\", json = {\"id\": 225, \"name\": \"Dror\"})\n",
        "    response.raise_for_status()  # Raise an exception for bad status codes (4xx or 5xx)\n",
        "    print(\"Successfully accessed the server!\")\n",
        "    print(\"Response:\", response.json())\n",
        "except requests.exceptions.RequestException as e:\n",
        "    print(f\"Error accessing the server: {e}\")\n"
      ],
      "metadata": {
        "colab": {
          "base_uri": "https://localhost:8080/"
        },
        "id": "8LaFfGtXjzkK",
        "outputId": "73c7d947-cbc1-4050-a9f6-683d5352a181"
      },
      "execution_count": 4,
      "outputs": [
        {
          "output_type": "stream",
          "name": "stderr",
          "text": [
            "INFO:werkzeug:172.28.0.12 - - [14/Mar/2025 16:02:14] \"\u001b[35m\u001b[1mPOST /users HTTP/1.1\u001b[0m\" 201 -\n"
          ]
        },
        {
          "output_type": "stream",
          "name": "stdout",
          "text": [
            "Successfully accessed the server!\n",
            "Response: {'message': 'User Added', 'user': {'id': 225, 'name': 'Dror'}}\n"
          ]
        }
      ]
    },
    {
      "cell_type": "markdown",
      "source": [
        "# Test model"
      ],
      "metadata": {
        "id": "MeJqk5zMjm45"
      }
    },
    {
      "cell_type": "code",
      "source": [
        "!provengo --batch-mode create BookStoreDemo\n",
        "!rm /content/BookStoreDemo/spec/js/hello-world.js"
      ],
      "metadata": {
        "colab": {
          "base_uri": "https://localhost:8080/"
        },
        "id": "KCgXSJEMIOc9",
        "outputId": "5351653e-4f52-47b0-cb63-8f9c88552ce3"
      },
      "execution_count": 5,
      "outputs": [
        {
          "output_type": "stream",
          "name": "stdout",
          "text": [
            "\u001b[34;1m        / / \u001b[0m\n",
            "\u001b[34;1m\u001b[0m\u001b[34;1m     /\\/ /  \u001b[0m\u001b[97;1m ____\u001b[0m\n",
            "\u001b[97;1m\u001b[0m\u001b[34;1m  /\\/ /\\/ / \u001b[0m\u001b[97;1m|  _ \\ _ __  _____   __ ___  _ __   __ _  ___\u001b[0m\n",
            "\u001b[97;1m\u001b[0m\u001b[34;1m /  \\/\\/\\/  \u001b[0m\u001b[97;1m| |_) | '__|/ _ \\ \\ / // _ \\| '_ \\ / _` |/ _ \\\u001b[0m\n",
            "\u001b[97;1m\u001b[0m\u001b[34;1m \\  /\\/\\/\\  \u001b[0m\u001b[97;1m|  __/| |  | (_) \\ V /|  __/| | | | (_| | (_) |\u001b[0m\n",
            "\u001b[97;1m\u001b[0m\u001b[34;1m  \\/\\ \\/\\ \\ \u001b[0m\u001b[97;1m|_|   |_|   \\___/ \\_/  \\___||_| |_|\\__, |\\___/\u001b[0m\n",
            "\u001b[97;1m\u001b[0m\u001b[34;1m     \\/\\ \\  \u001b[0m\u001b[97;1m                                   |___/\u001b[0m\n",
            "\u001b[97;1m\u001b[0m\u001b[34;1m        \\ \\ \u001b[0m\n",
            "\u001b[34;1m\u001b[0m\n",
            "16:02:22.879 \u001b[mINFO\u001b[0m [\u001b[33mSETUP\u001b[0m] We'd love to hear from you! hello@provengo.tech or https://provengo.tech/feedback/\n",
            "16:02:23.167 \u001b[mINFO\u001b[0m [\u001b[33mSETUP\u001b[0m] Project folder: /content/BookStoreDemo\n"
          ]
        }
      ]
    },
    {
      "cell_type": "code",
      "source": [
        "import os\n",
        "\n",
        "with open(\"/content/BookStoreDemo/spec/js/_constants.js\", \"w\") as f:\n",
        "  f.write(f\"\"\"\n",
        "const {host=};\n",
        "const {port=};\n",
        "\"\"\")"
      ],
      "metadata": {
        "id": "C3W6SvauA0K0"
      },
      "execution_count": 6,
      "outputs": []
    },
    {
      "cell_type": "code",
      "source": [
        "%%writefile /content/BookStoreDemo/spec/js/model.js\n",
        "\n",
        "const svc = new RESTSession(\"http://\"+host+\":\"+port, \"provengo basedclient\", {\n",
        "    headers: {\"Content-Type\":\"application/json\"}\n",
        "});\n",
        "\n",
        "\n",
        "function validation_func(response){\n",
        "  const respObj = JSON.parse(response.body);\n",
        "  if ( respObj.message != \"User Added\" ) {\n",
        "      pvg.fail(\"user creation failed: \" + respObj.message);\n",
        "  } else {\n",
        "      pvg.log.info(`response is: ${JSON.stringify(respObj)}`);\n",
        "  }\n",
        "}\n",
        "\n",
        "\n",
        "bthread(\"API User\", function(){\n",
        "    svc.get(\"/users\", {\n",
        "      callback: function(response){\n",
        "        const respObj = JSON.parse(response.body);\n",
        "        pvg.log.info(`response is: ${JSON.stringify(respObj)}`);\n",
        "      }\n",
        "    })\n",
        "\n",
        "    svc.post(\"/users\", {\n",
        "        body: JSON.stringify({\n",
        "            id: 111,\n",
        "            name: \"John Doe\",\n",
        "        }),\n",
        "        callback: validation_func\n",
        "    });\n",
        "\n",
        "    svc.get(\"/users\")\n",
        "});"
      ],
      "metadata": {
        "colab": {
          "base_uri": "https://localhost:8080/"
        },
        "id": "WBSyW0OKjwig",
        "outputId": "cbccbb7e-569f-4635-c4e2-53a17fb5cc30"
      },
      "execution_count": 7,
      "outputs": [
        {
          "output_type": "stream",
          "name": "stdout",
          "text": [
            "Writing /content/BookStoreDemo/spec/js/model.js\n"
          ]
        }
      ]
    },
    {
      "cell_type": "code",
      "source": [
        "!provengo run BookStoreDemo"
      ],
      "metadata": {
        "colab": {
          "base_uri": "https://localhost:8080/"
        },
        "id": "4uXI_u4XIKPV",
        "outputId": "56fdaa19-54b5-4a1c-922e-b04b125ed6a8"
      },
      "execution_count": 8,
      "outputs": [
        {
          "output_type": "stream",
          "name": "stdout",
          "text": [
            "\u001b[34;1m        / / \u001b[0m\n",
            "\u001b[34;1m\u001b[0m\u001b[34;1m     /\\/ /  \u001b[0m\u001b[97;1m ____\u001b[0m\n",
            "\u001b[97;1m\u001b[0m\u001b[34;1m  /\\/ /\\/ / \u001b[0m\u001b[97;1m|  _ \\ _ __  _____   __ ___  _ __   __ _  ___\u001b[0m\n",
            "\u001b[97;1m\u001b[0m\u001b[34;1m /  \\/\\/\\/  \u001b[0m\u001b[97;1m| |_) | '__|/ _ \\ \\ / // _ \\| '_ \\ / _` |/ _ \\\u001b[0m\n",
            "\u001b[97;1m\u001b[0m\u001b[34;1m \\  /\\/\\/\\  \u001b[0m\u001b[97;1m|  __/| |  | (_) \\ V /|  __/| | | | (_| | (_) |\u001b[0m\n",
            "\u001b[97;1m\u001b[0m\u001b[34;1m  \\/\\ \\/\\ \\ \u001b[0m\u001b[97;1m|_|   |_|   \\___/ \\_/  \\___||_| |_|\\__, |\\___/\u001b[0m\n",
            "\u001b[97;1m\u001b[0m\u001b[34;1m     \\/\\ \\  \u001b[0m\u001b[97;1m                                   |___/\u001b[0m\n",
            "\u001b[97;1m\u001b[0m\u001b[34;1m        \\ \\ \u001b[0m\n",
            "\u001b[34;1m\u001b[0m\n",
            "16:02:38.290 \u001b[mINFO\u001b[0m [\u001b[33mSETUP\u001b[0m] We'd love to hear from you! hello@provengo.tech or https://provengo.tech/feedback/\n",
            "16:02:38.340 \u001b[mINFO\u001b[0m [\u001b[33mSETUP\u001b[0m] Project path: /content/BookStoreDemo\n",
            "16:02:38.368 \u001b[mINFO\u001b[0m [\u001b[33mRUN\u001b[0m] Preparing to run\n",
            "16:02:38.683 \u001b[mINFO\u001b[0m [\u001b[33mRUN>BUILD\u001b[0m] model.js: Library 'REST' summoned automatically. Add \"//@provengo summon rest\" to the top of the file to explicitly summon it. Set the auto-summon configuration key to false to disable this behavior\n",
            "16:02:39.478 \u001b[mINFO\u001b[0m [\u001b[33mRUN>random\u001b[0m] B-program started\n",
            "16:02:39.540 \u001b[mINFO\u001b[0m [\u001b[33mRUN>random\u001b[0m] Selected: [\u001b[33mGET\u001b[0m \u001b[36m{lib:\"REST\", method:\"GET\", url:\"http://172.28.0.12:56350/users\", headers:{Content-Type:\"application/json\"}, parameters:{}, expectedResponseCodes:[], callback:{}}\u001b[0m]\n"
          ]
        },
        {
          "output_type": "stream",
          "name": "stderr",
          "text": [
            "INFO:werkzeug:172.28.0.12 - - [14/Mar/2025 16:02:40] \"GET /users HTTP/1.1\" 200 -\n"
          ]
        },
        {
          "output_type": "stream",
          "name": "stdout",
          "text": [
            "16:02:40.098 \u001b[mINFO\u001b[0m [\u001b[33mRUN>random\u001b[0m] response is: [{\"id\":225,\"name\":\"Dror\"}]\n"
          ]
        },
        {
          "output_type": "stream",
          "name": "stderr",
          "text": [
            "INFO:werkzeug:172.28.0.12 - - [14/Mar/2025 16:02:40] \"\u001b[35m\u001b[1mPOST /users HTTP/1.1\u001b[0m\" 201 -\n",
            "INFO:werkzeug:172.28.0.12 - - [14/Mar/2025 16:02:40] \"GET /users HTTP/1.1\" 200 -\n"
          ]
        },
        {
          "output_type": "stream",
          "name": "stdout",
          "text": [
            "16:02:40.516 \u001b[mINFO\u001b[0m [\u001b[33mRUN>random\u001b[0m] Selected: [\u001b[33mPOST\u001b[0m \u001b[36m{lib:\"REST\", method:\"POST\", url:\"http://172.28.0.12:56350/users\", headers:{Content-Type:\"application/json\"}, parameters:{}, expectedResponseCodes:[], callback:{}, body:\"{\"id\":111,\"name\":\"John Doe\"}\"}\u001b[0m]\n",
            "16:02:40.565 \u001b[mINFO\u001b[0m [\u001b[33mRUN>random\u001b[0m] response is: {\"message\":\"User Added\",\"user\":{\"id\":111,\"name\":\"John Doe\"}}\n",
            "16:02:40.611 \u001b[mINFO\u001b[0m [\u001b[33mRUN>random\u001b[0m] Selected: [\u001b[33mGET\u001b[0m \u001b[36m{lib:\"REST\", method:\"GET\", url:\"http://172.28.0.12:56350/users\", headers:{Content-Type:\"application/json\"}, parameters:{}, expectedResponseCodes:[], callback:{}}\u001b[0m]\n",
            "16:02:40.731 \u001b[mINFO\u001b[0m [\u001b[33mRUN\u001b[0m] Test Result: SUCCESS\n"
          ]
        }
      ]
    }
  ],
  "metadata": {
    "colab": {
      "collapsed_sections": [
        "T1xDaG9DihN3",
        "0I5Qp2RBLz1C"
      ],
      "provenance": [],
      "include_colab_link": true
    },
    "kernelspec": {
      "display_name": "Python 3",
      "name": "python3"
    },
    "language_info": {
      "name": "python"
    }
  },
  "nbformat": 4,
  "nbformat_minor": 0
}